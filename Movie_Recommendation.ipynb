{
 "cells": [
  {
   "cell_type": "code",
   "execution_count": 1,
   "metadata": {},
   "outputs": [],
   "source": [
    "import numpy as np\n",
    "import pandas as pd\n",
    " \n",
    " \n",
    "movies = pd.read_csv('tmdb_5000_movies.csv')\n",
    "credits = pd.read_csv('tmdb_5000_credits.csv')"
   ]
  },
  {
   "cell_type": "code",
   "execution_count": 2,
   "metadata": {},
   "outputs": [
    {
     "data": {
      "text/html": [
       "<div>\n",
       "<style scoped>\n",
       "    .dataframe tbody tr th:only-of-type {\n",
       "        vertical-align: middle;\n",
       "    }\n",
       "\n",
       "    .dataframe tbody tr th {\n",
       "        vertical-align: top;\n",
       "    }\n",
       "\n",
       "    .dataframe thead th {\n",
       "        text-align: right;\n",
       "    }\n",
       "</style>\n",
       "<table border=\"1\" class=\"dataframe\">\n",
       "  <thead>\n",
       "    <tr style=\"text-align: right;\">\n",
       "      <th></th>\n",
       "      <th>budget</th>\n",
       "      <th>genres</th>\n",
       "      <th>homepage</th>\n",
       "      <th>id</th>\n",
       "      <th>keywords</th>\n",
       "      <th>original_language</th>\n",
       "      <th>original_title</th>\n",
       "      <th>overview</th>\n",
       "      <th>popularity</th>\n",
       "      <th>production_companies</th>\n",
       "      <th>production_countries</th>\n",
       "      <th>release_date</th>\n",
       "      <th>revenue</th>\n",
       "      <th>runtime</th>\n",
       "      <th>spoken_languages</th>\n",
       "      <th>status</th>\n",
       "      <th>tagline</th>\n",
       "      <th>title</th>\n",
       "      <th>vote_average</th>\n",
       "      <th>vote_count</th>\n",
       "    </tr>\n",
       "  </thead>\n",
       "  <tbody>\n",
       "    <tr>\n",
       "      <th>0</th>\n",
       "      <td>237000000</td>\n",
       "      <td>[{\"id\": 28, \"name\": \"Action\"}, {\"id\": 12, \"nam...</td>\n",
       "      <td>http://www.avatarmovie.com/</td>\n",
       "      <td>19995</td>\n",
       "      <td>[{\"id\": 1463, \"name\": \"culture clash\"}, {\"id\":...</td>\n",
       "      <td>en</td>\n",
       "      <td>Avatar</td>\n",
       "      <td>In the 22nd century, a paraplegic Marine is di...</td>\n",
       "      <td>150.437577</td>\n",
       "      <td>[{\"name\": \"Ingenious Film Partners\", \"id\": 289...</td>\n",
       "      <td>[{\"iso_3166_1\": \"US\", \"name\": \"United States o...</td>\n",
       "      <td>2009-12-10</td>\n",
       "      <td>2787965087</td>\n",
       "      <td>162.0</td>\n",
       "      <td>[{\"iso_639_1\": \"en\", \"name\": \"English\"}, {\"iso...</td>\n",
       "      <td>Released</td>\n",
       "      <td>Enter the World of Pandora.</td>\n",
       "      <td>Avatar</td>\n",
       "      <td>7.2</td>\n",
       "      <td>11800</td>\n",
       "    </tr>\n",
       "    <tr>\n",
       "      <th>1</th>\n",
       "      <td>300000000</td>\n",
       "      <td>[{\"id\": 12, \"name\": \"Adventure\"}, {\"id\": 14, \"...</td>\n",
       "      <td>http://disney.go.com/disneypictures/pirates/</td>\n",
       "      <td>285</td>\n",
       "      <td>[{\"id\": 270, \"name\": \"ocean\"}, {\"id\": 726, \"na...</td>\n",
       "      <td>en</td>\n",
       "      <td>Pirates of the Caribbean: At World's End</td>\n",
       "      <td>Captain Barbossa, long believed to be dead, ha...</td>\n",
       "      <td>139.082615</td>\n",
       "      <td>[{\"name\": \"Walt Disney Pictures\", \"id\": 2}, {\"...</td>\n",
       "      <td>[{\"iso_3166_1\": \"US\", \"name\": \"United States o...</td>\n",
       "      <td>2007-05-19</td>\n",
       "      <td>961000000</td>\n",
       "      <td>169.0</td>\n",
       "      <td>[{\"iso_639_1\": \"en\", \"name\": \"English\"}]</td>\n",
       "      <td>Released</td>\n",
       "      <td>At the end of the world, the adventure begins.</td>\n",
       "      <td>Pirates of the Caribbean: At World's End</td>\n",
       "      <td>6.9</td>\n",
       "      <td>4500</td>\n",
       "    </tr>\n",
       "    <tr>\n",
       "      <th>2</th>\n",
       "      <td>245000000</td>\n",
       "      <td>[{\"id\": 28, \"name\": \"Action\"}, {\"id\": 12, \"nam...</td>\n",
       "      <td>http://www.sonypictures.com/movies/spectre/</td>\n",
       "      <td>206647</td>\n",
       "      <td>[{\"id\": 470, \"name\": \"spy\"}, {\"id\": 818, \"name...</td>\n",
       "      <td>en</td>\n",
       "      <td>Spectre</td>\n",
       "      <td>A cryptic message from Bond’s past sends him o...</td>\n",
       "      <td>107.376788</td>\n",
       "      <td>[{\"name\": \"Columbia Pictures\", \"id\": 5}, {\"nam...</td>\n",
       "      <td>[{\"iso_3166_1\": \"GB\", \"name\": \"United Kingdom\"...</td>\n",
       "      <td>2015-10-26</td>\n",
       "      <td>880674609</td>\n",
       "      <td>148.0</td>\n",
       "      <td>[{\"iso_639_1\": \"fr\", \"name\": \"Fran\\u00e7ais\"},...</td>\n",
       "      <td>Released</td>\n",
       "      <td>A Plan No One Escapes</td>\n",
       "      <td>Spectre</td>\n",
       "      <td>6.3</td>\n",
       "      <td>4466</td>\n",
       "    </tr>\n",
       "    <tr>\n",
       "      <th>3</th>\n",
       "      <td>250000000</td>\n",
       "      <td>[{\"id\": 28, \"name\": \"Action\"}, {\"id\": 80, \"nam...</td>\n",
       "      <td>http://www.thedarkknightrises.com/</td>\n",
       "      <td>49026</td>\n",
       "      <td>[{\"id\": 849, \"name\": \"dc comics\"}, {\"id\": 853,...</td>\n",
       "      <td>en</td>\n",
       "      <td>The Dark Knight Rises</td>\n",
       "      <td>Following the death of District Attorney Harve...</td>\n",
       "      <td>112.312950</td>\n",
       "      <td>[{\"name\": \"Legendary Pictures\", \"id\": 923}, {\"...</td>\n",
       "      <td>[{\"iso_3166_1\": \"US\", \"name\": \"United States o...</td>\n",
       "      <td>2012-07-16</td>\n",
       "      <td>1084939099</td>\n",
       "      <td>165.0</td>\n",
       "      <td>[{\"iso_639_1\": \"en\", \"name\": \"English\"}]</td>\n",
       "      <td>Released</td>\n",
       "      <td>The Legend Ends</td>\n",
       "      <td>The Dark Knight Rises</td>\n",
       "      <td>7.6</td>\n",
       "      <td>9106</td>\n",
       "    </tr>\n",
       "    <tr>\n",
       "      <th>4</th>\n",
       "      <td>260000000</td>\n",
       "      <td>[{\"id\": 28, \"name\": \"Action\"}, {\"id\": 12, \"nam...</td>\n",
       "      <td>http://movies.disney.com/john-carter</td>\n",
       "      <td>49529</td>\n",
       "      <td>[{\"id\": 818, \"name\": \"based on novel\"}, {\"id\":...</td>\n",
       "      <td>en</td>\n",
       "      <td>John Carter</td>\n",
       "      <td>John Carter is a war-weary, former military ca...</td>\n",
       "      <td>43.926995</td>\n",
       "      <td>[{\"name\": \"Walt Disney Pictures\", \"id\": 2}]</td>\n",
       "      <td>[{\"iso_3166_1\": \"US\", \"name\": \"United States o...</td>\n",
       "      <td>2012-03-07</td>\n",
       "      <td>284139100</td>\n",
       "      <td>132.0</td>\n",
       "      <td>[{\"iso_639_1\": \"en\", \"name\": \"English\"}]</td>\n",
       "      <td>Released</td>\n",
       "      <td>Lost in our world, found in another.</td>\n",
       "      <td>John Carter</td>\n",
       "      <td>6.1</td>\n",
       "      <td>2124</td>\n",
       "    </tr>\n",
       "  </tbody>\n",
       "</table>\n",
       "</div>"
      ],
      "text/plain": [
       "      budget                                             genres  \\\n",
       "0  237000000  [{\"id\": 28, \"name\": \"Action\"}, {\"id\": 12, \"nam...   \n",
       "1  300000000  [{\"id\": 12, \"name\": \"Adventure\"}, {\"id\": 14, \"...   \n",
       "2  245000000  [{\"id\": 28, \"name\": \"Action\"}, {\"id\": 12, \"nam...   \n",
       "3  250000000  [{\"id\": 28, \"name\": \"Action\"}, {\"id\": 80, \"nam...   \n",
       "4  260000000  [{\"id\": 28, \"name\": \"Action\"}, {\"id\": 12, \"nam...   \n",
       "\n",
       "                                       homepage      id  \\\n",
       "0                   http://www.avatarmovie.com/   19995   \n",
       "1  http://disney.go.com/disneypictures/pirates/     285   \n",
       "2   http://www.sonypictures.com/movies/spectre/  206647   \n",
       "3            http://www.thedarkknightrises.com/   49026   \n",
       "4          http://movies.disney.com/john-carter   49529   \n",
       "\n",
       "                                            keywords original_language  \\\n",
       "0  [{\"id\": 1463, \"name\": \"culture clash\"}, {\"id\":...                en   \n",
       "1  [{\"id\": 270, \"name\": \"ocean\"}, {\"id\": 726, \"na...                en   \n",
       "2  [{\"id\": 470, \"name\": \"spy\"}, {\"id\": 818, \"name...                en   \n",
       "3  [{\"id\": 849, \"name\": \"dc comics\"}, {\"id\": 853,...                en   \n",
       "4  [{\"id\": 818, \"name\": \"based on novel\"}, {\"id\":...                en   \n",
       "\n",
       "                             original_title  \\\n",
       "0                                    Avatar   \n",
       "1  Pirates of the Caribbean: At World's End   \n",
       "2                                   Spectre   \n",
       "3                     The Dark Knight Rises   \n",
       "4                               John Carter   \n",
       "\n",
       "                                            overview  popularity  \\\n",
       "0  In the 22nd century, a paraplegic Marine is di...  150.437577   \n",
       "1  Captain Barbossa, long believed to be dead, ha...  139.082615   \n",
       "2  A cryptic message from Bond’s past sends him o...  107.376788   \n",
       "3  Following the death of District Attorney Harve...  112.312950   \n",
       "4  John Carter is a war-weary, former military ca...   43.926995   \n",
       "\n",
       "                                production_companies  \\\n",
       "0  [{\"name\": \"Ingenious Film Partners\", \"id\": 289...   \n",
       "1  [{\"name\": \"Walt Disney Pictures\", \"id\": 2}, {\"...   \n",
       "2  [{\"name\": \"Columbia Pictures\", \"id\": 5}, {\"nam...   \n",
       "3  [{\"name\": \"Legendary Pictures\", \"id\": 923}, {\"...   \n",
       "4        [{\"name\": \"Walt Disney Pictures\", \"id\": 2}]   \n",
       "\n",
       "                                production_countries release_date     revenue  \\\n",
       "0  [{\"iso_3166_1\": \"US\", \"name\": \"United States o...   2009-12-10  2787965087   \n",
       "1  [{\"iso_3166_1\": \"US\", \"name\": \"United States o...   2007-05-19   961000000   \n",
       "2  [{\"iso_3166_1\": \"GB\", \"name\": \"United Kingdom\"...   2015-10-26   880674609   \n",
       "3  [{\"iso_3166_1\": \"US\", \"name\": \"United States o...   2012-07-16  1084939099   \n",
       "4  [{\"iso_3166_1\": \"US\", \"name\": \"United States o...   2012-03-07   284139100   \n",
       "\n",
       "   runtime                                   spoken_languages    status  \\\n",
       "0    162.0  [{\"iso_639_1\": \"en\", \"name\": \"English\"}, {\"iso...  Released   \n",
       "1    169.0           [{\"iso_639_1\": \"en\", \"name\": \"English\"}]  Released   \n",
       "2    148.0  [{\"iso_639_1\": \"fr\", \"name\": \"Fran\\u00e7ais\"},...  Released   \n",
       "3    165.0           [{\"iso_639_1\": \"en\", \"name\": \"English\"}]  Released   \n",
       "4    132.0           [{\"iso_639_1\": \"en\", \"name\": \"English\"}]  Released   \n",
       "\n",
       "                                          tagline  \\\n",
       "0                     Enter the World of Pandora.   \n",
       "1  At the end of the world, the adventure begins.   \n",
       "2                           A Plan No One Escapes   \n",
       "3                                 The Legend Ends   \n",
       "4            Lost in our world, found in another.   \n",
       "\n",
       "                                      title  vote_average  vote_count  \n",
       "0                                    Avatar           7.2       11800  \n",
       "1  Pirates of the Caribbean: At World's End           6.9        4500  \n",
       "2                                   Spectre           6.3        4466  \n",
       "3                     The Dark Knight Rises           7.6        9106  \n",
       "4                               John Carter           6.1        2124  "
      ]
     },
     "execution_count": 2,
     "metadata": {},
     "output_type": "execute_result"
    }
   ],
   "source": [
    "movies.head()"
   ]
  },
  {
   "cell_type": "code",
   "execution_count": 3,
   "metadata": {},
   "outputs": [
    {
     "data": {
      "text/html": [
       "<div>\n",
       "<style scoped>\n",
       "    .dataframe tbody tr th:only-of-type {\n",
       "        vertical-align: middle;\n",
       "    }\n",
       "\n",
       "    .dataframe tbody tr th {\n",
       "        vertical-align: top;\n",
       "    }\n",
       "\n",
       "    .dataframe thead th {\n",
       "        text-align: right;\n",
       "    }\n",
       "</style>\n",
       "<table border=\"1\" class=\"dataframe\">\n",
       "  <thead>\n",
       "    <tr style=\"text-align: right;\">\n",
       "      <th></th>\n",
       "      <th>movie_id</th>\n",
       "      <th>title</th>\n",
       "      <th>cast</th>\n",
       "      <th>crew</th>\n",
       "    </tr>\n",
       "  </thead>\n",
       "  <tbody>\n",
       "    <tr>\n",
       "      <th>0</th>\n",
       "      <td>19995</td>\n",
       "      <td>Avatar</td>\n",
       "      <td>[{\"cast_id\": 242, \"character\": \"Jake Sully\", \"...</td>\n",
       "      <td>[{\"credit_id\": \"52fe48009251416c750aca23\", \"de...</td>\n",
       "    </tr>\n",
       "    <tr>\n",
       "      <th>1</th>\n",
       "      <td>285</td>\n",
       "      <td>Pirates of the Caribbean: At World's End</td>\n",
       "      <td>[{\"cast_id\": 4, \"character\": \"Captain Jack Spa...</td>\n",
       "      <td>[{\"credit_id\": \"52fe4232c3a36847f800b579\", \"de...</td>\n",
       "    </tr>\n",
       "    <tr>\n",
       "      <th>2</th>\n",
       "      <td>206647</td>\n",
       "      <td>Spectre</td>\n",
       "      <td>[{\"cast_id\": 1, \"character\": \"James Bond\", \"cr...</td>\n",
       "      <td>[{\"credit_id\": \"54805967c3a36829b5002c41\", \"de...</td>\n",
       "    </tr>\n",
       "    <tr>\n",
       "      <th>3</th>\n",
       "      <td>49026</td>\n",
       "      <td>The Dark Knight Rises</td>\n",
       "      <td>[{\"cast_id\": 2, \"character\": \"Bruce Wayne / Ba...</td>\n",
       "      <td>[{\"credit_id\": \"52fe4781c3a36847f81398c3\", \"de...</td>\n",
       "    </tr>\n",
       "    <tr>\n",
       "      <th>4</th>\n",
       "      <td>49529</td>\n",
       "      <td>John Carter</td>\n",
       "      <td>[{\"cast_id\": 5, \"character\": \"John Carter\", \"c...</td>\n",
       "      <td>[{\"credit_id\": \"52fe479ac3a36847f813eaa3\", \"de...</td>\n",
       "    </tr>\n",
       "  </tbody>\n",
       "</table>\n",
       "</div>"
      ],
      "text/plain": [
       "   movie_id                                     title  \\\n",
       "0     19995                                    Avatar   \n",
       "1       285  Pirates of the Caribbean: At World's End   \n",
       "2    206647                                   Spectre   \n",
       "3     49026                     The Dark Knight Rises   \n",
       "4     49529                               John Carter   \n",
       "\n",
       "                                                cast  \\\n",
       "0  [{\"cast_id\": 242, \"character\": \"Jake Sully\", \"...   \n",
       "1  [{\"cast_id\": 4, \"character\": \"Captain Jack Spa...   \n",
       "2  [{\"cast_id\": 1, \"character\": \"James Bond\", \"cr...   \n",
       "3  [{\"cast_id\": 2, \"character\": \"Bruce Wayne / Ba...   \n",
       "4  [{\"cast_id\": 5, \"character\": \"John Carter\", \"c...   \n",
       "\n",
       "                                                crew  \n",
       "0  [{\"credit_id\": \"52fe48009251416c750aca23\", \"de...  \n",
       "1  [{\"credit_id\": \"52fe4232c3a36847f800b579\", \"de...  \n",
       "2  [{\"credit_id\": \"54805967c3a36829b5002c41\", \"de...  \n",
       "3  [{\"credit_id\": \"52fe4781c3a36847f81398c3\", \"de...  \n",
       "4  [{\"credit_id\": \"52fe479ac3a36847f813eaa3\", \"de...  "
      ]
     },
     "execution_count": 3,
     "metadata": {},
     "output_type": "execute_result"
    }
   ],
   "source": [
    "credits.head()"
   ]
  },
  {
   "cell_type": "code",
   "execution_count": 4,
   "metadata": {},
   "outputs": [
    {
     "data": {
      "text/plain": [
       "(Index(['budget', 'genres', 'homepage', 'id', 'keywords', 'original_language',\n",
       "        'original_title', 'overview', 'popularity', 'production_companies',\n",
       "        'production_countries', 'release_date', 'revenue', 'runtime',\n",
       "        'spoken_languages', 'status', 'tagline', 'title', 'vote_average',\n",
       "        'vote_count'],\n",
       "       dtype='object'),\n",
       " Index(['movie_id', 'title', 'cast', 'crew'], dtype='object'))"
      ]
     },
     "execution_count": 4,
     "metadata": {},
     "output_type": "execute_result"
    }
   ],
   "source": [
    "movies.columns, credits.columns"
   ]
  },
  {
   "cell_type": "code",
   "execution_count": 5,
   "metadata": {},
   "outputs": [
    {
     "data": {
      "text/plain": [
       "((4803, 20), (4803, 4))"
      ]
     },
     "execution_count": 5,
     "metadata": {},
     "output_type": "execute_result"
    }
   ],
   "source": [
    "movies.shape, credits.shape"
   ]
  },
  {
   "cell_type": "code",
   "execution_count": 6,
   "metadata": {},
   "outputs": [
    {
     "data": {
      "text/plain": [
       "0"
      ]
     },
     "execution_count": 6,
     "metadata": {},
     "output_type": "execute_result"
    }
   ],
   "source": [
    "credits.movie_id.isnull().sum()"
   ]
  },
  {
   "cell_type": "code",
   "execution_count": 7,
   "metadata": {},
   "outputs": [],
   "source": [
    "movies = pd.merge(credits, on='title', right=movies)"
   ]
  },
  {
   "cell_type": "code",
   "execution_count": 8,
   "metadata": {},
   "outputs": [
    {
     "data": {
      "text/plain": [
       "Index(['movie_id', 'title', 'cast', 'crew', 'budget', 'genres', 'homepage',\n",
       "       'id', 'keywords', 'original_language', 'original_title', 'overview',\n",
       "       'popularity', 'production_companies', 'production_countries',\n",
       "       'release_date', 'revenue', 'runtime', 'spoken_languages', 'status',\n",
       "       'tagline', 'vote_average', 'vote_count'],\n",
       "      dtype='object')"
      ]
     },
     "execution_count": 8,
     "metadata": {},
     "output_type": "execute_result"
    }
   ],
   "source": [
    "movies.columns"
   ]
  },
  {
   "cell_type": "code",
   "execution_count": 9,
   "metadata": {},
   "outputs": [],
   "source": [
    "movies  = movies[['movie_id', 'genres', 'title', 'cast', 'crew', 'keywords', 'overview']]"
   ]
  },
  {
   "cell_type": "code",
   "execution_count": 10,
   "metadata": {},
   "outputs": [
    {
     "data": {
      "text/html": [
       "<div>\n",
       "<style scoped>\n",
       "    .dataframe tbody tr th:only-of-type {\n",
       "        vertical-align: middle;\n",
       "    }\n",
       "\n",
       "    .dataframe tbody tr th {\n",
       "        vertical-align: top;\n",
       "    }\n",
       "\n",
       "    .dataframe thead th {\n",
       "        text-align: right;\n",
       "    }\n",
       "</style>\n",
       "<table border=\"1\" class=\"dataframe\">\n",
       "  <thead>\n",
       "    <tr style=\"text-align: right;\">\n",
       "      <th></th>\n",
       "      <th>movie_id</th>\n",
       "      <th>genres</th>\n",
       "      <th>title</th>\n",
       "      <th>cast</th>\n",
       "      <th>crew</th>\n",
       "      <th>keywords</th>\n",
       "      <th>overview</th>\n",
       "    </tr>\n",
       "  </thead>\n",
       "  <tbody>\n",
       "    <tr>\n",
       "      <th>0</th>\n",
       "      <td>19995</td>\n",
       "      <td>[{\"id\": 28, \"name\": \"Action\"}, {\"id\": 12, \"nam...</td>\n",
       "      <td>Avatar</td>\n",
       "      <td>[{\"cast_id\": 242, \"character\": \"Jake Sully\", \"...</td>\n",
       "      <td>[{\"credit_id\": \"52fe48009251416c750aca23\", \"de...</td>\n",
       "      <td>[{\"id\": 1463, \"name\": \"culture clash\"}, {\"id\":...</td>\n",
       "      <td>In the 22nd century, a paraplegic Marine is di...</td>\n",
       "    </tr>\n",
       "    <tr>\n",
       "      <th>1</th>\n",
       "      <td>285</td>\n",
       "      <td>[{\"id\": 12, \"name\": \"Adventure\"}, {\"id\": 14, \"...</td>\n",
       "      <td>Pirates of the Caribbean: At World's End</td>\n",
       "      <td>[{\"cast_id\": 4, \"character\": \"Captain Jack Spa...</td>\n",
       "      <td>[{\"credit_id\": \"52fe4232c3a36847f800b579\", \"de...</td>\n",
       "      <td>[{\"id\": 270, \"name\": \"ocean\"}, {\"id\": 726, \"na...</td>\n",
       "      <td>Captain Barbossa, long believed to be dead, ha...</td>\n",
       "    </tr>\n",
       "    <tr>\n",
       "      <th>2</th>\n",
       "      <td>206647</td>\n",
       "      <td>[{\"id\": 28, \"name\": \"Action\"}, {\"id\": 12, \"nam...</td>\n",
       "      <td>Spectre</td>\n",
       "      <td>[{\"cast_id\": 1, \"character\": \"James Bond\", \"cr...</td>\n",
       "      <td>[{\"credit_id\": \"54805967c3a36829b5002c41\", \"de...</td>\n",
       "      <td>[{\"id\": 470, \"name\": \"spy\"}, {\"id\": 818, \"name...</td>\n",
       "      <td>A cryptic message from Bond’s past sends him o...</td>\n",
       "    </tr>\n",
       "    <tr>\n",
       "      <th>3</th>\n",
       "      <td>49026</td>\n",
       "      <td>[{\"id\": 28, \"name\": \"Action\"}, {\"id\": 80, \"nam...</td>\n",
       "      <td>The Dark Knight Rises</td>\n",
       "      <td>[{\"cast_id\": 2, \"character\": \"Bruce Wayne / Ba...</td>\n",
       "      <td>[{\"credit_id\": \"52fe4781c3a36847f81398c3\", \"de...</td>\n",
       "      <td>[{\"id\": 849, \"name\": \"dc comics\"}, {\"id\": 853,...</td>\n",
       "      <td>Following the death of District Attorney Harve...</td>\n",
       "    </tr>\n",
       "    <tr>\n",
       "      <th>4</th>\n",
       "      <td>49529</td>\n",
       "      <td>[{\"id\": 28, \"name\": \"Action\"}, {\"id\": 12, \"nam...</td>\n",
       "      <td>John Carter</td>\n",
       "      <td>[{\"cast_id\": 5, \"character\": \"John Carter\", \"c...</td>\n",
       "      <td>[{\"credit_id\": \"52fe479ac3a36847f813eaa3\", \"de...</td>\n",
       "      <td>[{\"id\": 818, \"name\": \"based on novel\"}, {\"id\":...</td>\n",
       "      <td>John Carter is a war-weary, former military ca...</td>\n",
       "    </tr>\n",
       "  </tbody>\n",
       "</table>\n",
       "</div>"
      ],
      "text/plain": [
       "   movie_id                                             genres  \\\n",
       "0     19995  [{\"id\": 28, \"name\": \"Action\"}, {\"id\": 12, \"nam...   \n",
       "1       285  [{\"id\": 12, \"name\": \"Adventure\"}, {\"id\": 14, \"...   \n",
       "2    206647  [{\"id\": 28, \"name\": \"Action\"}, {\"id\": 12, \"nam...   \n",
       "3     49026  [{\"id\": 28, \"name\": \"Action\"}, {\"id\": 80, \"nam...   \n",
       "4     49529  [{\"id\": 28, \"name\": \"Action\"}, {\"id\": 12, \"nam...   \n",
       "\n",
       "                                      title  \\\n",
       "0                                    Avatar   \n",
       "1  Pirates of the Caribbean: At World's End   \n",
       "2                                   Spectre   \n",
       "3                     The Dark Knight Rises   \n",
       "4                               John Carter   \n",
       "\n",
       "                                                cast  \\\n",
       "0  [{\"cast_id\": 242, \"character\": \"Jake Sully\", \"...   \n",
       "1  [{\"cast_id\": 4, \"character\": \"Captain Jack Spa...   \n",
       "2  [{\"cast_id\": 1, \"character\": \"James Bond\", \"cr...   \n",
       "3  [{\"cast_id\": 2, \"character\": \"Bruce Wayne / Ba...   \n",
       "4  [{\"cast_id\": 5, \"character\": \"John Carter\", \"c...   \n",
       "\n",
       "                                                crew  \\\n",
       "0  [{\"credit_id\": \"52fe48009251416c750aca23\", \"de...   \n",
       "1  [{\"credit_id\": \"52fe4232c3a36847f800b579\", \"de...   \n",
       "2  [{\"credit_id\": \"54805967c3a36829b5002c41\", \"de...   \n",
       "3  [{\"credit_id\": \"52fe4781c3a36847f81398c3\", \"de...   \n",
       "4  [{\"credit_id\": \"52fe479ac3a36847f813eaa3\", \"de...   \n",
       "\n",
       "                                            keywords  \\\n",
       "0  [{\"id\": 1463, \"name\": \"culture clash\"}, {\"id\":...   \n",
       "1  [{\"id\": 270, \"name\": \"ocean\"}, {\"id\": 726, \"na...   \n",
       "2  [{\"id\": 470, \"name\": \"spy\"}, {\"id\": 818, \"name...   \n",
       "3  [{\"id\": 849, \"name\": \"dc comics\"}, {\"id\": 853,...   \n",
       "4  [{\"id\": 818, \"name\": \"based on novel\"}, {\"id\":...   \n",
       "\n",
       "                                            overview  \n",
       "0  In the 22nd century, a paraplegic Marine is di...  \n",
       "1  Captain Barbossa, long believed to be dead, ha...  \n",
       "2  A cryptic message from Bond’s past sends him o...  \n",
       "3  Following the death of District Attorney Harve...  \n",
       "4  John Carter is a war-weary, former military ca...  "
      ]
     },
     "execution_count": 10,
     "metadata": {},
     "output_type": "execute_result"
    }
   ],
   "source": [
    "movies.head()"
   ]
  },
  {
   "cell_type": "code",
   "execution_count": 11,
   "metadata": {},
   "outputs": [
    {
     "data": {
      "text/plain": [
       "movie_id    0\n",
       "genres      0\n",
       "title       0\n",
       "cast        0\n",
       "crew        0\n",
       "keywords    0\n",
       "overview    3\n",
       "dtype: int64"
      ]
     },
     "execution_count": 11,
     "metadata": {},
     "output_type": "execute_result"
    }
   ],
   "source": [
    "movies.isna().sum()"
   ]
  },
  {
   "cell_type": "code",
   "execution_count": 12,
   "metadata": {},
   "outputs": [],
   "source": [
    "movies.dropna(inplace=True)"
   ]
  },
  {
   "cell_type": "code",
   "execution_count": 13,
   "metadata": {},
   "outputs": [
    {
     "data": {
      "text/plain": [
       "((4806, 7), 0)"
      ]
     },
     "execution_count": 13,
     "metadata": {},
     "output_type": "execute_result"
    }
   ],
   "source": [
    "movies.shape, movies.duplicated().sum()"
   ]
  },
  {
   "cell_type": "code",
   "execution_count": 14,
   "metadata": {},
   "outputs": [],
   "source": [
    "import ast\n",
    "\n",
    "def convert(obj):\n",
    "    L = []\n",
    "    for i in ast.literal_eval(obj):\n",
    "        L.append(i['name'])\n",
    "    return L"
   ]
  },
  {
   "cell_type": "code",
   "execution_count": 15,
   "metadata": {},
   "outputs": [
    {
     "data": {
      "text/plain": [
       "0       [Action, Adventure, Fantasy, Science Fiction]\n",
       "1                        [Adventure, Fantasy, Action]\n",
       "2                          [Action, Adventure, Crime]\n",
       "3                    [Action, Crime, Drama, Thriller]\n",
       "4                [Action, Adventure, Science Fiction]\n",
       "                            ...                      \n",
       "4804                        [Action, Crime, Thriller]\n",
       "4805                                [Comedy, Romance]\n",
       "4806               [Comedy, Drama, Romance, TV Movie]\n",
       "4807                                               []\n",
       "4808                                    [Documentary]\n",
       "Name: genres, Length: 4806, dtype: object"
      ]
     },
     "execution_count": 15,
     "metadata": {},
     "output_type": "execute_result"
    }
   ],
   "source": [
    "movies['genres'] = movies['genres'].apply(convert)\n",
    "movies.genres"
   ]
  },
  {
   "cell_type": "code",
   "execution_count": 16,
   "metadata": {},
   "outputs": [],
   "source": [
    "movies['cast'] = movies['cast'].apply(convert)"
   ]
  },
  {
   "cell_type": "code",
   "execution_count": 17,
   "metadata": {},
   "outputs": [
    {
     "data": {
      "text/plain": [
       "0        [Sam Worthington, Zoe Saldana, Sigourney Weaver]\n",
       "1           [Johnny Depp, Orlando Bloom, Keira Knightley]\n",
       "2            [Daniel Craig, Christoph Waltz, Léa Seydoux]\n",
       "3            [Christian Bale, Michael Caine, Gary Oldman]\n",
       "4          [Taylor Kitsch, Lynn Collins, Samantha Morton]\n",
       "                              ...                        \n",
       "4804    [Carlos Gallardo, Jaime de Hoyos, Peter Marqua...\n",
       "4805         [Edward Burns, Kerry Bishé, Marsha Dietlein]\n",
       "4806           [Eric Mabius, Kristin Booth, Crystal Lowe]\n",
       "4807            [Daniel Henney, Eliza Coupe, Bill Paxton]\n",
       "4808    [Drew Barrymore, Brian Herzlinger, Corey Feldman]\n",
       "Name: cast, Length: 4806, dtype: object"
      ]
     },
     "execution_count": 17,
     "metadata": {},
     "output_type": "execute_result"
    }
   ],
   "source": [
    "movies['cast'] = movies['cast'].apply(lambda x:x[:3])\n",
    "movies['cast']"
   ]
  },
  {
   "cell_type": "code",
   "execution_count": 18,
   "metadata": {},
   "outputs": [
    {
     "data": {
      "text/plain": [
       "0       [culture clash, future, space war, space colon...\n",
       "1       [ocean, drug abuse, exotic island, east india ...\n",
       "2       [spy, based on novel, secret agent, sequel, mi...\n",
       "3       [dc comics, crime fighter, terrorist, secret i...\n",
       "4       [based on novel, mars, medallion, space travel...\n",
       "                              ...                        \n",
       "4804    [united states–mexico barrier, legs, arms, pap...\n",
       "4805                                                   []\n",
       "4806    [date, love at first sight, narration, investi...\n",
       "4807                                                   []\n",
       "4808            [obsession, camcorder, crush, dream girl]\n",
       "Name: keywords, Length: 4806, dtype: object"
      ]
     },
     "execution_count": 18,
     "metadata": {},
     "output_type": "execute_result"
    }
   ],
   "source": [
    "movies['keywords'] = movies['keywords'].apply(convert)\n",
    "movies['keywords']"
   ]
  },
  {
   "cell_type": "code",
   "execution_count": 19,
   "metadata": {},
   "outputs": [],
   "source": [
    "def fetch_director(obj):\n",
    "    L = []\n",
    "    for i in ast.literal_eval(obj):\n",
    "        if i['job'] == 'Director':\n",
    "            L.append(i['name'])\n",
    "    return L"
   ]
  },
  {
   "cell_type": "code",
   "execution_count": 20,
   "metadata": {},
   "outputs": [
    {
     "data": {
      "text/plain": [
       "0                                [James Cameron]\n",
       "1                               [Gore Verbinski]\n",
       "2                                   [Sam Mendes]\n",
       "3                            [Christopher Nolan]\n",
       "4                               [Andrew Stanton]\n",
       "                          ...                   \n",
       "4804                          [Robert Rodriguez]\n",
       "4805                              [Edward Burns]\n",
       "4806                               [Scott Smith]\n",
       "4807                               [Daniel Hsia]\n",
       "4808    [Brian Herzlinger, Jon Gunn, Brett Winn]\n",
       "Name: crew, Length: 4806, dtype: object"
      ]
     },
     "execution_count": 20,
     "metadata": {},
     "output_type": "execute_result"
    }
   ],
   "source": [
    "movies['crew'] = movies['crew'].apply(fetch_director)\n",
    "movies['crew']"
   ]
  },
  {
   "cell_type": "code",
   "execution_count": 21,
   "metadata": {},
   "outputs": [],
   "source": [
    "def collapse(obj):\n",
    "    L1 = []\n",
    "    for i in obj:\n",
    "        L1.append(i.replace(\" \",\"\"))\n",
    "    return L1"
   ]
  },
  {
   "cell_type": "code",
   "execution_count": 22,
   "metadata": {},
   "outputs": [],
   "source": [
    "movies['genres'] = movies['genres'].apply(collapse)\n",
    "movies['cast'] = movies['cast'].apply(collapse)\n",
    "movies['crew'] = movies['crew'].apply(collapse)\n",
    "movies['keywords'] = movies['keywords'].apply(collapse)"
   ]
  },
  {
   "cell_type": "code",
   "execution_count": 23,
   "metadata": {},
   "outputs": [
    {
     "data": {
      "text/html": [
       "<div>\n",
       "<style scoped>\n",
       "    .dataframe tbody tr th:only-of-type {\n",
       "        vertical-align: middle;\n",
       "    }\n",
       "\n",
       "    .dataframe tbody tr th {\n",
       "        vertical-align: top;\n",
       "    }\n",
       "\n",
       "    .dataframe thead th {\n",
       "        text-align: right;\n",
       "    }\n",
       "</style>\n",
       "<table border=\"1\" class=\"dataframe\">\n",
       "  <thead>\n",
       "    <tr style=\"text-align: right;\">\n",
       "      <th></th>\n",
       "      <th>movie_id</th>\n",
       "      <th>genres</th>\n",
       "      <th>title</th>\n",
       "      <th>cast</th>\n",
       "      <th>crew</th>\n",
       "      <th>keywords</th>\n",
       "      <th>overview</th>\n",
       "    </tr>\n",
       "  </thead>\n",
       "  <tbody>\n",
       "    <tr>\n",
       "      <th>0</th>\n",
       "      <td>19995</td>\n",
       "      <td>[Action, Adventure, Fantasy, ScienceFiction]</td>\n",
       "      <td>Avatar</td>\n",
       "      <td>[SamWorthington, ZoeSaldana, SigourneyWeaver]</td>\n",
       "      <td>[JamesCameron]</td>\n",
       "      <td>[cultureclash, future, spacewar, spacecolony, ...</td>\n",
       "      <td>In the 22nd century, a paraplegic Marine is di...</td>\n",
       "    </tr>\n",
       "    <tr>\n",
       "      <th>1</th>\n",
       "      <td>285</td>\n",
       "      <td>[Adventure, Fantasy, Action]</td>\n",
       "      <td>Pirates of the Caribbean: At World's End</td>\n",
       "      <td>[JohnnyDepp, OrlandoBloom, KeiraKnightley]</td>\n",
       "      <td>[GoreVerbinski]</td>\n",
       "      <td>[ocean, drugabuse, exoticisland, eastindiatrad...</td>\n",
       "      <td>Captain Barbossa, long believed to be dead, ha...</td>\n",
       "    </tr>\n",
       "    <tr>\n",
       "      <th>2</th>\n",
       "      <td>206647</td>\n",
       "      <td>[Action, Adventure, Crime]</td>\n",
       "      <td>Spectre</td>\n",
       "      <td>[DanielCraig, ChristophWaltz, LéaSeydoux]</td>\n",
       "      <td>[SamMendes]</td>\n",
       "      <td>[spy, basedonnovel, secretagent, sequel, mi6, ...</td>\n",
       "      <td>A cryptic message from Bond’s past sends him o...</td>\n",
       "    </tr>\n",
       "  </tbody>\n",
       "</table>\n",
       "</div>"
      ],
      "text/plain": [
       "   movie_id                                        genres  \\\n",
       "0     19995  [Action, Adventure, Fantasy, ScienceFiction]   \n",
       "1       285                  [Adventure, Fantasy, Action]   \n",
       "2    206647                    [Action, Adventure, Crime]   \n",
       "\n",
       "                                      title  \\\n",
       "0                                    Avatar   \n",
       "1  Pirates of the Caribbean: At World's End   \n",
       "2                                   Spectre   \n",
       "\n",
       "                                            cast             crew  \\\n",
       "0  [SamWorthington, ZoeSaldana, SigourneyWeaver]   [JamesCameron]   \n",
       "1     [JohnnyDepp, OrlandoBloom, KeiraKnightley]  [GoreVerbinski]   \n",
       "2      [DanielCraig, ChristophWaltz, LéaSeydoux]      [SamMendes]   \n",
       "\n",
       "                                            keywords  \\\n",
       "0  [cultureclash, future, spacewar, spacecolony, ...   \n",
       "1  [ocean, drugabuse, exoticisland, eastindiatrad...   \n",
       "2  [spy, basedonnovel, secretagent, sequel, mi6, ...   \n",
       "\n",
       "                                            overview  \n",
       "0  In the 22nd century, a paraplegic Marine is di...  \n",
       "1  Captain Barbossa, long believed to be dead, ha...  \n",
       "2  A cryptic message from Bond’s past sends him o...  "
      ]
     },
     "execution_count": 23,
     "metadata": {},
     "output_type": "execute_result"
    }
   ],
   "source": [
    "movies.head(3)"
   ]
  },
  {
   "cell_type": "code",
   "execution_count": 24,
   "metadata": {},
   "outputs": [],
   "source": [
    "movies['overview'] = movies['overview'].apply(lambda x:x.split())"
   ]
  },
  {
   "cell_type": "code",
   "execution_count": 25,
   "metadata": {},
   "outputs": [
    {
     "data": {
      "text/html": [
       "<div>\n",
       "<style scoped>\n",
       "    .dataframe tbody tr th:only-of-type {\n",
       "        vertical-align: middle;\n",
       "    }\n",
       "\n",
       "    .dataframe tbody tr th {\n",
       "        vertical-align: top;\n",
       "    }\n",
       "\n",
       "    .dataframe thead th {\n",
       "        text-align: right;\n",
       "    }\n",
       "</style>\n",
       "<table border=\"1\" class=\"dataframe\">\n",
       "  <thead>\n",
       "    <tr style=\"text-align: right;\">\n",
       "      <th></th>\n",
       "      <th>movie_id</th>\n",
       "      <th>genres</th>\n",
       "      <th>title</th>\n",
       "      <th>cast</th>\n",
       "      <th>crew</th>\n",
       "      <th>keywords</th>\n",
       "      <th>overview</th>\n",
       "    </tr>\n",
       "  </thead>\n",
       "  <tbody>\n",
       "    <tr>\n",
       "      <th>0</th>\n",
       "      <td>19995</td>\n",
       "      <td>[Action, Adventure, Fantasy, ScienceFiction]</td>\n",
       "      <td>Avatar</td>\n",
       "      <td>[SamWorthington, ZoeSaldana, SigourneyWeaver]</td>\n",
       "      <td>[JamesCameron]</td>\n",
       "      <td>[cultureclash, future, spacewar, spacecolony, ...</td>\n",
       "      <td>[In, the, 22nd, century,, a, paraplegic, Marin...</td>\n",
       "    </tr>\n",
       "    <tr>\n",
       "      <th>1</th>\n",
       "      <td>285</td>\n",
       "      <td>[Adventure, Fantasy, Action]</td>\n",
       "      <td>Pirates of the Caribbean: At World's End</td>\n",
       "      <td>[JohnnyDepp, OrlandoBloom, KeiraKnightley]</td>\n",
       "      <td>[GoreVerbinski]</td>\n",
       "      <td>[ocean, drugabuse, exoticisland, eastindiatrad...</td>\n",
       "      <td>[Captain, Barbossa,, long, believed, to, be, d...</td>\n",
       "    </tr>\n",
       "    <tr>\n",
       "      <th>2</th>\n",
       "      <td>206647</td>\n",
       "      <td>[Action, Adventure, Crime]</td>\n",
       "      <td>Spectre</td>\n",
       "      <td>[DanielCraig, ChristophWaltz, LéaSeydoux]</td>\n",
       "      <td>[SamMendes]</td>\n",
       "      <td>[spy, basedonnovel, secretagent, sequel, mi6, ...</td>\n",
       "      <td>[A, cryptic, message, from, Bond’s, past, send...</td>\n",
       "    </tr>\n",
       "    <tr>\n",
       "      <th>3</th>\n",
       "      <td>49026</td>\n",
       "      <td>[Action, Crime, Drama, Thriller]</td>\n",
       "      <td>The Dark Knight Rises</td>\n",
       "      <td>[ChristianBale, MichaelCaine, GaryOldman]</td>\n",
       "      <td>[ChristopherNolan]</td>\n",
       "      <td>[dccomics, crimefighter, terrorist, secretiden...</td>\n",
       "      <td>[Following, the, death, of, District, Attorney...</td>\n",
       "    </tr>\n",
       "    <tr>\n",
       "      <th>4</th>\n",
       "      <td>49529</td>\n",
       "      <td>[Action, Adventure, ScienceFiction]</td>\n",
       "      <td>John Carter</td>\n",
       "      <td>[TaylorKitsch, LynnCollins, SamanthaMorton]</td>\n",
       "      <td>[AndrewStanton]</td>\n",
       "      <td>[basedonnovel, mars, medallion, spacetravel, p...</td>\n",
       "      <td>[John, Carter, is, a, war-weary,, former, mili...</td>\n",
       "    </tr>\n",
       "  </tbody>\n",
       "</table>\n",
       "</div>"
      ],
      "text/plain": [
       "   movie_id                                        genres  \\\n",
       "0     19995  [Action, Adventure, Fantasy, ScienceFiction]   \n",
       "1       285                  [Adventure, Fantasy, Action]   \n",
       "2    206647                    [Action, Adventure, Crime]   \n",
       "3     49026              [Action, Crime, Drama, Thriller]   \n",
       "4     49529           [Action, Adventure, ScienceFiction]   \n",
       "\n",
       "                                      title  \\\n",
       "0                                    Avatar   \n",
       "1  Pirates of the Caribbean: At World's End   \n",
       "2                                   Spectre   \n",
       "3                     The Dark Knight Rises   \n",
       "4                               John Carter   \n",
       "\n",
       "                                            cast                crew  \\\n",
       "0  [SamWorthington, ZoeSaldana, SigourneyWeaver]      [JamesCameron]   \n",
       "1     [JohnnyDepp, OrlandoBloom, KeiraKnightley]     [GoreVerbinski]   \n",
       "2      [DanielCraig, ChristophWaltz, LéaSeydoux]         [SamMendes]   \n",
       "3      [ChristianBale, MichaelCaine, GaryOldman]  [ChristopherNolan]   \n",
       "4    [TaylorKitsch, LynnCollins, SamanthaMorton]     [AndrewStanton]   \n",
       "\n",
       "                                            keywords  \\\n",
       "0  [cultureclash, future, spacewar, spacecolony, ...   \n",
       "1  [ocean, drugabuse, exoticisland, eastindiatrad...   \n",
       "2  [spy, basedonnovel, secretagent, sequel, mi6, ...   \n",
       "3  [dccomics, crimefighter, terrorist, secretiden...   \n",
       "4  [basedonnovel, mars, medallion, spacetravel, p...   \n",
       "\n",
       "                                            overview  \n",
       "0  [In, the, 22nd, century,, a, paraplegic, Marin...  \n",
       "1  [Captain, Barbossa,, long, believed, to, be, d...  \n",
       "2  [A, cryptic, message, from, Bond’s, past, send...  \n",
       "3  [Following, the, death, of, District, Attorney...  \n",
       "4  [John, Carter, is, a, war-weary,, former, mili...  "
      ]
     },
     "execution_count": 25,
     "metadata": {},
     "output_type": "execute_result"
    }
   ],
   "source": [
    "movies.head()"
   ]
  },
  {
   "cell_type": "code",
   "execution_count": 26,
   "metadata": {},
   "outputs": [],
   "source": [
    "movies['tags'] = movies['cast'] + movies['genres'] + movies['keywords'] + movies['overview'] + movies['crew']"
   ]
  },
  {
   "cell_type": "code",
   "execution_count": 27,
   "metadata": {},
   "outputs": [],
   "source": [
    "movies = movies.drop(columns=['genres', 'cast', 'crew', 'keywords', 'overview'])"
   ]
  },
  {
   "cell_type": "code",
   "execution_count": 28,
   "metadata": {},
   "outputs": [
    {
     "data": {
      "text/html": [
       "<div>\n",
       "<style scoped>\n",
       "    .dataframe tbody tr th:only-of-type {\n",
       "        vertical-align: middle;\n",
       "    }\n",
       "\n",
       "    .dataframe tbody tr th {\n",
       "        vertical-align: top;\n",
       "    }\n",
       "\n",
       "    .dataframe thead th {\n",
       "        text-align: right;\n",
       "    }\n",
       "</style>\n",
       "<table border=\"1\" class=\"dataframe\">\n",
       "  <thead>\n",
       "    <tr style=\"text-align: right;\">\n",
       "      <th></th>\n",
       "      <th>movie_id</th>\n",
       "      <th>title</th>\n",
       "      <th>tags</th>\n",
       "    </tr>\n",
       "  </thead>\n",
       "  <tbody>\n",
       "    <tr>\n",
       "      <th>0</th>\n",
       "      <td>19995</td>\n",
       "      <td>Avatar</td>\n",
       "      <td>[SamWorthington, ZoeSaldana, SigourneyWeaver, ...</td>\n",
       "    </tr>\n",
       "    <tr>\n",
       "      <th>1</th>\n",
       "      <td>285</td>\n",
       "      <td>Pirates of the Caribbean: At World's End</td>\n",
       "      <td>[JohnnyDepp, OrlandoBloom, KeiraKnightley, Adv...</td>\n",
       "    </tr>\n",
       "    <tr>\n",
       "      <th>2</th>\n",
       "      <td>206647</td>\n",
       "      <td>Spectre</td>\n",
       "      <td>[DanielCraig, ChristophWaltz, LéaSeydoux, Acti...</td>\n",
       "    </tr>\n",
       "    <tr>\n",
       "      <th>3</th>\n",
       "      <td>49026</td>\n",
       "      <td>The Dark Knight Rises</td>\n",
       "      <td>[ChristianBale, MichaelCaine, GaryOldman, Acti...</td>\n",
       "    </tr>\n",
       "    <tr>\n",
       "      <th>4</th>\n",
       "      <td>49529</td>\n",
       "      <td>John Carter</td>\n",
       "      <td>[TaylorKitsch, LynnCollins, SamanthaMorton, Ac...</td>\n",
       "    </tr>\n",
       "  </tbody>\n",
       "</table>\n",
       "</div>"
      ],
      "text/plain": [
       "   movie_id                                     title  \\\n",
       "0     19995                                    Avatar   \n",
       "1       285  Pirates of the Caribbean: At World's End   \n",
       "2    206647                                   Spectre   \n",
       "3     49026                     The Dark Knight Rises   \n",
       "4     49529                               John Carter   \n",
       "\n",
       "                                                tags  \n",
       "0  [SamWorthington, ZoeSaldana, SigourneyWeaver, ...  \n",
       "1  [JohnnyDepp, OrlandoBloom, KeiraKnightley, Adv...  \n",
       "2  [DanielCraig, ChristophWaltz, LéaSeydoux, Acti...  \n",
       "3  [ChristianBale, MichaelCaine, GaryOldman, Acti...  \n",
       "4  [TaylorKitsch, LynnCollins, SamanthaMorton, Ac...  "
      ]
     },
     "execution_count": 28,
     "metadata": {},
     "output_type": "execute_result"
    }
   ],
   "source": [
    "movies.head()"
   ]
  },
  {
   "cell_type": "code",
   "execution_count": 29,
   "metadata": {},
   "outputs": [],
   "source": [
    "movies['tags'] = movies['tags'].apply(lambda x:\" \".join(x))"
   ]
  },
  {
   "cell_type": "code",
   "execution_count": 30,
   "metadata": {},
   "outputs": [],
   "source": [
    "from sklearn.feature_extraction.text import CountVectorizer\n",
    "cv = CountVectorizer(max_features=5000,stop_words='english')\n"
   ]
  },
  {
   "cell_type": "code",
   "execution_count": 31,
   "metadata": {},
   "outputs": [],
   "source": [
    "import nltk\n",
    "\n",
    "from nltk.stem import PorterStemmer\n",
    "ps = PorterStemmer()\n",
    "def stem(text):\n",
    "    y = []\n",
    "    for i in text.split():\n",
    "        y.append(ps.stem(i))\n",
    "    \n",
    "    return \" \".join(y)"
   ]
  },
  {
   "cell_type": "code",
   "execution_count": 32,
   "metadata": {},
   "outputs": [],
   "source": [
    "movies['tags'] = movies['tags'].apply(stem)"
   ]
  },
  {
   "cell_type": "code",
   "execution_count": 33,
   "metadata": {},
   "outputs": [],
   "source": [
    "vectors = cv.fit_transform(movies['tags'])"
   ]
  },
  {
   "cell_type": "code",
   "execution_count": 34,
   "metadata": {},
   "outputs": [
    {
     "data": {
      "text/plain": [
       "array([[0, 0, 0, ..., 0, 0, 0],\n",
       "       [0, 0, 0, ..., 0, 0, 0],\n",
       "       [0, 0, 0, ..., 0, 0, 0],\n",
       "       ...,\n",
       "       [0, 0, 0, ..., 0, 0, 0],\n",
       "       [0, 0, 0, ..., 0, 0, 0],\n",
       "       [0, 0, 0, ..., 0, 0, 0]], dtype=int64)"
      ]
     },
     "execution_count": 34,
     "metadata": {},
     "output_type": "execute_result"
    }
   ],
   "source": [
    "vectors = vectors.toarray()\n",
    "vectors"
   ]
  },
  {
   "cell_type": "code",
   "execution_count": 35,
   "metadata": {},
   "outputs": [
    {
     "data": {
      "text/plain": [
       "dict_keys(['zoesaldana', 'sigourneyweav', 'action', 'adventur', 'fantasi', 'sciencefict', 'cultureclash', 'futur', 'societi', 'spacetravel', 'futurist', 'romanc', 'space', 'alien', 'tribe', 'alienplanet', 'marin', 'soldier', 'battl', '3d', 'century', 'dispatch', 'moon', 'pandora', 'uniqu', 'mission', 'becom', 'torn', 'follow', 'order', 'protect', 'jamescameron', 'johnnydepp', 'orlandobloom', 'keiraknightley', 'ocean', 'drugabus', 'exoticisland', 'loveofone', 'slif', 'traitor', 'shipwreck', 'ship', 'allianc', 'afterlif', 'fighter', 'pirat', 'aftercreditssting', 'captain', 'long', 'believ', 'dead', 'ha', 'come', 'life', 'head', 'edg', 'earth', 'turner', 'elizabeth', 'noth', 'quit', 'goreverbinski', 'danielcraig', 'christophwaltz', 'crime', 'spi', 'basedonnovel', 'secretag', 'sequel', 'britishsecretservic', 'messag', 'bond', 'past', 'send', 'trail', 'uncov', 'sinist', 'organization', 'polit', 'forc', 'secret', 'servic', 'alive', 'deceit', 'reveal', 'terribl', 'truth', 'sammend', 'christianbal', 'michaelcain', 'garyoldman', 'drama', 'thriller', 'dccomic', 'crimefight', 'terrorist', 'secretident', 'burglar', 'gothamc', 'vigilant', 'cover', 'superhero', 'terror', 'destruct', 'imax', 'flood', 'batman', 'death', 'district', 'attorney', 'harvey', 'assum', 'respons', 'late', 'reput', 'subsequ', 'hunt', 'gotham', 'citi', 'polic', 'year', 'later', 'encount', 'mysteri', 'kyle', 'villain', 'new', 'leader', 'overwhelm', 'dark', 'knight', 'resurfac', 'brand', 'enemy', 'christophernolan', 'samanthamorton', 'mar', 'medallion', 'princess', 'steampunk', 'martian', 'escap', 'superhumanstrength', '19thcenturi', 'john', 'carter', 'war', 'militari', 'inexplic', 'transport', 'exot', 'planet', 'reluctantli', 'embroil', 'epic', 'conflict', 'world', 'brink', 'rediscov', 'hi', 'human', 'realiz', 'surviv', 'peopl', 'rest', 'hands', 'tobeymaguir', 'kirstendunst', 'jamesfranco', 'dualident', 'amnesia', 'forgiv', 'spider', 'wretch', 'deathofafriend', 'sand', 'hostil', 'marvelcom', 'reveng', 'seemingli', 'man', 'goe', 'includ', 'shape', 'shift', 'superpow', 'alter', 'ego', 'peter', 'parker', 'deal', 'nemesi', 'eddi', 'caught', 'love', 'triangle', 'samraimi', 'mandymoor', 'anim', 'famili', 'hostag', 'magic', 'hors', 'fairytal', 'music', 'tower', 'duringcreditssting', 'kingdom', 'bandit', 'rider', 'hide', 'taken', 'beauti', 'bound', 'teen', '70', 'feet', 'golden', 'hair', 'look', 'ticket', 'lock', 'away', 'years', 'strike', 'handsom', 'thief', 'unlik', 'duo', 'set', 'pack', 'complet', 'super', 'cop', 'gang', 'pub', 'robertdowneyjr', 'chrishemsworth', 'markruffalo', 'basedoncomicbook', 'vision', 'marvelcinematicunivers', 'toni', 'stark', 'tri', 'program', 'thing', 'awri', 'hero', 'ultim', 'test', 'fate', 'hang', 'aveng', 'stop', 'plans', 'soon', 'unexpect', 'way', 'global', 'adventure', 'danielradcliff', 'rupertgrint', 'emmawatson', 'witch', 'broom', 'teenagecrush', 'werewolf', 'harri', 'begin', 'discov', 'old', 'book', 'mark', 'properti', 'half', 'blood', 'prince', 'learn', 'lord', 'benaffleck', 'fear', 'god', 'lik', 'left', 'city', 'modern', 'day', 'wrestl', 'sort', 'realli', 'superman', 'threat', 'quickli', 'mankind', 'greater', 'danger', 'known', 'zacksnyd', 'kevinspacey', 'katebosworth', 'savingtheworld', 'return', 'allow', 'walk', 'free', 'wa', 'abandon', 'plot', 'million', 'kill', 'chang', 'face', 'forever', 'rid', 'steel', 'bryansing', 'undercov', 'continu', 'jame', 'casino', 'betray', 'woman', '007', 'fight', 'urg', 'make', 'latest', 'pursu', 'determin', 'interrog', 'mr', 'white', 'organ', 'blackmail', 'far', 'complex', 'anyon', 'imagined', 'marcforst', 'fortunetel', 'monster', 'daughter', 'jack', 'work', 'debt', 'jones', 'attempt', 'avoid', 'etern', 'western', 'texa', 'survivor', 'partner', 'outlaw', 'lawyer', 'train', 'ranger', 'chase', 'led', 'ambush', 'american', 'indian', 'nurs', 'health', 'don', 'mask', 'ride', 'silver', 'team', 'bring', 'justice', 'amyadam', 'michaelshannon', 'superhuman', 'alieninvas', 'reboot', 'young', 'boy', 'extraordinari', 'power', 'thi', 'journey', 'came', 'sent', 'emerg', 'save', 'symbol', 'hope', 'fictionalplac', 'brothersisterrelationship', 'lion', 'matteroflifeanddeath', 'faith', 'uncl', 'narnia', 'fantasyworld', 'incred', 'luci', 'susan', 'aid', 'princ', 'threaten', 'evil', 'king', 'help', 'color', 'cast', 'characters', 'clan', 'embark', 'quest', 'ensur', 'right', 'heir', 'chrisevan', 'newyork', 'shield', 'enemi', 'safeti', 'nick', 'director', 'intern', 'agenc', 'need', 'pull', 'disaster', 'span', 'globe', 'dare', 'recruit', 'effort', 'begins', 'penélopecruz', 'sea', 'mutini', 'sword', 'sail', 'duke', 'mermaid', 'cross', 'path', 'sure', 'ruthless', 'artist', 'use', 'fabl', 'youth', 'aboard', 'queen', 'anne', 'revenge', 'formid', 'doesn', 'know', 'willsmith', 'tommyleejon', 'joshbrolin', 'comedi', 'timetravel', 'agent', 'smith', 'tommi', 'lee', 'time', 'seen', '15', 'men', 'black', 'aliens', 'stake', 'travel', 'univers', 'told', 'themselv', 'josh', 'agency', 'humankind', 'barrysonnenfeld', 'martinfreeman', 'ianmckellen', 'corrupt', 'elv', 'dwarv', 'orc', 'middle', 'hobbit', 'dragon', 'unlikelyfriendship', 'swordandsorceri', 'immedi', 'event', 'desol', 'defend', 'mountain', 'treasur', 'claim', 'ruin', 'meanwhil', 'armi', 'march', 'fuel', 'rise', 'fall', 'peterjackson', 'emmaston', 'lossoffath', 'outcast', 'high', 'parent', 'leav', 'rais', 'ben', 'aunt', 'like', 'teenagers', 'figur', 'got', 'person', 'today', 'belong', 'father', 'understand', 'parents', 'disappear', 'lead', 'lab', 'dr', 'collis', 'cours', 'choic', 'destini', 'russellcrow', 'cateblanchett', 'archer', 'middleag', 'mediev', 'robin', 'happen', 'die', 'robert', 'promis', 'identity', 'widow', 'draw', 'town', 'sheriff', 'ridleyscott', 'wizard', 'success', 'mountains', 'gain', 'ring', 'gold', 'nicolekidman', 'england', 'experi', 'orphan', 'basedonyoungadultnovel', 'shock', 'trade', 'carefre', 'exist', 'roam', 'hall', 'jordan', 'colleg', 'otherworldli', 'north', 'unawar', 'destiny', 'chrisweitz', 'naomiwatt', 'jackblack', 'adrienbrodi', 'screenplay', 'filmmak', 'filmproduc', 'dinosaur', 'york', 'ambiti', 'movi', 'produc', 'hire', 'crew', 'skull', 'island', 'kong', 'giant', 'ape', 'smitten', 'katewinslet', 'leonardodicaprio', 'panic', 'titan', 'disast', 'classdiffer', 'starcrossedlov', '1910', 'rose', 'tell', 'stori', 'lizzi', 'lewi', 'bobbi', 'april', 'board', 'depart', 'upper', 'class', 'passeng', 'mother', 'ruth', 'fiancé', 'drifter', 'best', 'friend', 'win', 'game', 'explain', 'voyag', '20', 'scarlettjohansson', 'civilwar', 'age', 'collect', 'govern', 'pass', 'act', 'design', 'polar', 'caus', 'faction', 'iron', 'america', 'navi', 'hongkong', 'soccer', 'scientist', 'beam', 'radio', 'signal', 'form', 'sever', 'craft', 'water', 'hawaii', 'lieuten', 'alex', 'hopper', 'weapon', 'offic', 'assign', 'paul', 'engag', 'unimagin', 'strength', 'live', 'potenti', 'brother', 'admir', 'shane', 'expect', 'peterberg', 'dna', 'suspens', 'amusementpark', 'animalattack', 'animalhorror', 'park', 'featur', 'fulli', 'theme', 'origin', 'judidench', 'javierbardem', 'sociopath', 'killer', 'grave', 'wrong', 'attack', 'reloc', 'author', 'posit', 'challeng', 'intellig', 'secur', 'insid', 'alli', 'trust', 'shadow', 'onli', 'field', 'eve', 'lethal', 'hidden', 'motiv', 'doctor', 'supervillain', 'major', 'ident', 'crisis', 'burn', 'decid', 'suffer', 'wake', 'doc', 'feel', 'mari', 'jane', 'girl', 'sinc', 'childhood', 'gwynethpaltrow', 'doncheadl', 'malibu', 'apart', 'start', 'odyssey', 'rebuild', 'annehathaway', 'alice', 'individu', '19', 'english', 'party', 'crowd', 'consid', 'marriag', 'hole', 'garden', 'spot', 'unusu', 'rabbit', 'arriv', 'strang', 'surreal', 'place', 'nightmar', 'child', 'talk', 'animals', 'alic', 'reason', 'conquer', 'horrif', 'restor', 'throne', 'timburton', 'hughjackman', 'halleberri', 'mutant', 'beast', 'cure', 'treat', 'line', 'drawn', 'band', 'brettratn', 'billycryst', 'johngoodman', 'stevebuscemi', 'bestfriend', 'scari', 'relationship', 'mike', 'dure', 'friends', 'shialabeouf', 'egypt', 'sun', 'chao', 'artifact', 'transform', 'tank', 'robot', 'sam', 'normal', 'mind', 'target', 'drag', 'michaelbay', 'markwahlberg', 'giantrobot', 'pick', 'vanish', 'group', 'businessman', 'push', 'boundari', 'technolog', 'control', 'ancient', 'menac', 'milakuni', 'rachelweisz', 'circu', 'illus', 'lost', 'oscar', 'small', 'tim', 'whisk', 'kansa', 'land', 'oz', 'inhabit', 'great', 'clutch', 'jamiefoxx', 'obsess', 'bad', 'guy', 'spend', 'loves', 'school', 'graduat', 'stay', 'clue', 'jeffbridg', 'oliviawild', 'artificialintellig', 'dystopia', 'comput', 'decept', 'duel', 'motorcycl', 'tech', 'son', 'kevin', 'investig', 'dictat', 'real', 'owenwilson', 'carrac', 'anthropomorph', 'star', 'race', 'car', 'lightn', 'pal', 'compet', 'grand', 'road', 'championship', 'rocki', 'intrigu', 'ryanreynold', 'petersarsgaard', 'centuries', 'warrior', 'green', 'corp', 'intergalact', 'wear', 'grant', 'destroy', 'balanc', 'universe', 'lie', 'hand', 'martincampbel', 'tomhank', 'timallen', 'toy', 'toycomestolif', 'buzz', 'andy', 'haven', 'play', 'andi', 'college', 'accident', 'nefari', 'care', 'center', 'togeth', 'home', 'antonyelchin', 'propheci', 'sanfrancisco', 'cyborg', 'killerrobot', 'gasstat', 'post', 'apocalypt', 'losangel', 'grown', 'connor', 'resist', 'increasingli', 'domin', 'marcu', 'wright', 'confus', 'foe', 'vindiesel', 'paulwalk', 'dwaynejohnson', 'speed', 'shaw', 'seek', 'jameswan', 'bradpitt', 'horror', 'apocalyps', 'zombi', 'zombieapocalyps', 'unit', 'nation', 'lane', 'content', 'plagu', 'infect', 'turn', 'popul', 'rampag', 'zombies', 'bare', 'chaos', 'persuad', 'disease', 'peril', 'trek', 'brave', 'odd', 'answer', 'befor', 'civil', 'jamesmcavoy', 'michaelfassbend', '1970', 'storm', 'speci', 'period', 'join', 'younger', 'future', 'chrispin', 'spacecraft', 'friendship', 'spaceopera', 'enterpris', 'unstopp', 'everyth', 'stand', 'state', 'score', 'kirk', 'manhunt', 'captur', 'mass', 'destruction', 'sacrific', 'ewanmcgregor', 'unwittingli', 'open', 'fearsom', 'unleash', 'strive', 'reclaim', 'onc', 'people', 'thought', 'legend', 'chanc', 'careymulligan', 'infidel', 'adapt', 'scott', 'novel', 'lure', 'lavish', 'neighbor', 'jay', 'crack', 'rich', 'existence', 'obsession', 'tragedi', 'await', 'jakegyllenha', 'benkingsley', 'basedonvideogam', 'rogu', 'capabl', 'releas', 'gift', 'rule', 'mikenewel', 'legion', 'monstrou', 'creatures', 'began', 'consum', 'humanity', 'resourc', 'end', 'combat', 'special', 'type', 'massiv', 'simultan', 'pilot', 'prove', 'nearli', 'relentless', 'verg', 'defeat', 'heroes', 'charli', 'drive', 'legendari', 'mount', 'apocalypse', 'johnmalkovich', 'bodyguard', 'sabotag', 'commando', 'step', 'adulthood', 'remain', 'reluct', 'prime', 'film', 'usa', 'suggest', 'role', 'secrets', 'harrisonford', 'riddl', 'whip', 'machinegun', 'peru', 'treasurehunt', 'archaeologist', 'archeolog', 'cold', 'soviet', 'wield', 'search', 'crystal', 'supernatur', 'relat', 'mystic', 'indi', 'colleagu', 'professor', 'knowledg', 'stevenspielberg', 'jeffreywright', 'natur', 'scotland', 'rebel', 'braveri', 'wish', 'bear', 'womandirector', 'courag', 'scottish', 'accomplish', 'defi', 'sacr', 'custom', 'inadvert', 'turmoil', 'eccentr', 'wise', 'ill', 'fat', 'serv', 'comic', 'enorm', 'karlurban', 'strand', 'hatr', 'explor', 'reach', 'feder', 'romanticcomedi', 'wall', 'overrun', 'clean', 'develop', 'think', 'final', 'jackiechan', 'ambassador', 'assassin', 'han', 'inspector', 'detect', 'pari', 'french', 'hold', 'meet', 'struggl', 'chines', 'crimin', 'mastermind', 'johncusack', 'amandapeet', 'chiwetelejiofor', 'naturaldisast', 'endoftheworld', 'solar', 'worldwid', 'effect', 'radiat', 'unpreced', 'core', 'heat', 'warn', 'presid', 'thoma', 'wilson', 'unstabl', 'prepar', 'entir', 'writer', 'jackson', 'stumbl', 'build', 'cataclysm', 'family', 'erupt', 'earthquak', 'wreak', 'havoc', 'rolandemmerich', 'jimcarrey', 'holiday', 'money', 'ghost', 'lesson', 'christma', 'miser', 'awaken', 'spirit', 'opportun', 'wast', 'current', 'dire', 'doe', 'ways', 'grow', 'bitter', 'redemption', 'robertzemecki', 'channingtatum', 'seanbean', 'interspeciesrom', 'genet', 'materi', 'preciou', 'key', 'strateg', 'lillywachowski', 'lanawachowski', 'africa', 'jungl', 'london', 'activ', 'selfsacrific', 'winter', 'sibl', 'lucy', 'peac', 'plung', 'children', 'spectacular', 'jenniferlawr', 'supernaturalpow', '1980', 'level', 'plan', 'heathledg', 'aaroneckhart', 'sadism', 'organizedcrim', 'lt', 'jim', 'gordon', 'streets', 'partnership', 'prey', 'reign', 'terrifi', 'citizen', 'christopherplumm', 'agediffer', 'balloon', 'carl', 'spent', 'dream', 'experienc', 'twist', 'wilder', 'russell', 'sethrogen', 'reesewitherspoon', 'murphi', 'meteor', 'wed', '11', 'jump', 'covert', 'confin', 'ragtag', 'monsters', 'terrencehoward', 'middleeast', 'armsdeal', 'held', 'captiv', 'cave', 'billionair', 'engin', 'creat', 'suit', 'armor', 'jonfavreau', 'clock', 'filmdirector', 'station', '1930', 'paris', 'fix', 'gadget', 'connect', 'mechan', 'unlock', 'adventures', 'georg', 'surpris', 'memori', 'buri', 'regard', 'martinscorses', 'kevinklin', 'kennethbranagh', 'basedontvseri', 'southern', 'inventor', 'loveless', 'rekindl', 'gunfight', 'west', 'master', 'disguis', 'thwart', 'brendanfras', 'jetli', 'rick', 'connel', 'china', 'pit', 'emperor', '000', 'dynasti', 'enlist', 'wife', 'cal', 'abus', 'robcohen', 'antihero', 'secretmiss', 'dc', 'suicid', 'squad', 'government', 'undertak', 'risk', 'exchang', 'prison', 'stevecarel', 'fathersonrelationship', 'marriedcoupl', 'support', 'rescu', 'noah', 'contact', 'tomshadyac', 'tomcruis', 'emilyblunt', 'brendangleeson', 'cage', 'drop', 'manag', 'alpha', 'physic', 'thrown', 'loop', 'dougliman', 'kevincostn', 'tattoo', 'doomsday', 'ice', 'escape', 'trio', 'covet', 'map', 'dennisquaid', 'marlonwayan', 'warhead', 'murder', 'explos', 'laser', 'egyptian', 'desert', 'deep', 'elit', 'joe', 'gener', 'arm', 'dealer', 'prevent', 'cartoon', 'kid', 'emot', 'riley', 'midwest', 'job', 'san', 'francisco', 'guid', 'joy', 'anger', 'advis', 'everyday', 'adjust', 'ensu', 'main', 'import', 'navig', 'hous', 'billmurray', 'snake', 'wolf', 'eleph', 'tiger', 'panther', 'remak', 'talkinganim', 'khan', 'flee', 'jungle', 'self', 'discoveri', 'pressur', 'press', 'public', 'share', 'let', 'forg', 'confront', 'enemies', 'kristenstewart', 'charlizetheron', 'immort', 'forest', 'imprison', 'marri', 'perform', 'violent', 'coup', 'snow', 'decad', 'obtain', 'heart', 'angelinajoli', 'retel', 'disney', 'icon', 'classic', 'sleep', 'beauty', 'beautiful', 'pure', 'idyl', 'invad', 'harmoni', 'stone', 'bent', 'successor', 'result', 'curs', 'newborn', 'infant', 'true', 'happi', 'coloni', 'wood', 'monkey', 'aliv', 'aftermath', 'wipe', 'caesar', 'maintain', 'commun', 'joshhartnett', 'lover', 'sweep', 'tale', 'imposs', 'backdrop', 'centr', 'charact', 'british', '18th', 'centuri', 'india', 'deepli', 'present', 'keanureev', 'japan', 'samurai', 'basedontruestori', 'base', 'endur', 'born', 'vengeanc', 'treacher', 'banish', 'kind', 'honor', 'homeland', 'seri', 'trial', 'ordinari', 'samuell', 'washingtond', 'steve', 'aka', 'washington', 'web', 'expos', 'conspiraci', 'profession', 'silenc', 'everi', 'revealed', 'falcon', 'th', 'mikemy', 'eddiemurphi', 'camerondiaz', 'ogr', 'bore', 'domest', 'shrek', 'pact', 'mak', 'version', 'met', 'georgeclooney', 'bright', 'scientif', 'geniu', 'jade', 'fil', 'enigmat', 'somewher', 'brotherbrotherrelationship', 'talent', 'hate', 'prodigi', 'johnc', 'reilli', 'bulli', 'medal', 'videogam', 'ralph', 'foot', 'tall', 'video', 'jr', 'want', 'good', 'just', 'enter', 'rush', 'track', 'von', 'affect', 'santaclau', 'nerd', 'bell', 'beard', 'doubt', 'wonder', 'fade', 'jeffgoldblum', 'billpullman', 'alway', 'knew', 'recov', 'technology', 'immens', 'defens', 'advanc', 'force', 'women', 'gerardbutl', 'fli', 'blacksmith', 'arena', 'night', 'villag', 'vike', 'ignor', 'flight', 'shi', 'iii', 'longer', 'instead', 'befriend', 'arnoldschwarzenegg', 'clairedan', 'manvsmachin', 'sunglass', 'firemen', 'psychiatrist', '10', 'clear', 'anyth', 'trace', 'finish', 'nemesis', 'adult', 'spaceship', 'outerspac', 'light', 'matthewmcconaughey', 'jessicachastain', 'singlepar', 'nasa', 'expedit', 'raceagainsttim', 'familyrelationship', 'astronaut', 'fatherdaughterrelationship', 'singlefath', 'farmer', 'rel', 'chronicl', 'newli', 'limit', 'vast', 'involv', 'josephgordon', 'levitt', 'ellenpag', 'lossoflov', 'kidnap', 'heist', 'redempt', 'skill', 'commit', 'corpor', 'espionag', 'infiltr', 'offer', 'regain', 'task', 'anoth', 'idea', 'hit', 'larger', 'tear', 'scrambl', 'rag', 'tag', 'volunt', 'cut', 'red', 'tape', 'weak', 'tie', 'foreign', 'greatest', 'catastroph', 'evolv', 'veri', 'eyes', 'tunnel', 'invis', 'enjoy', 'quiet', 'swept', 'michellerodriguez', 'streetgang', 'auto', 'automobilerac', 'lo', 'angel', 'street', 'racer', 'suspect', 'big', 'rig', 'brian', 'sister', 'choos', 'lapd', 'tildaswinton', 'diari', 'funer', 'hospit', 'benjamin', 'button', 'bizarr', 'consequences', 'davidfinch', 'cia', '1960', 'charl', 'took', 'arch', 'joshhutcherson', 'revolut', 'katniss', 'showdown', '13', 'stage', 'mortal', 'moral', 'ani', 'hunger', 'games', 'nicolascag', 'castl', 'apprentic', 'sorcer', 'manhattan', 'dave', 'averag', 'crash', 'art', 'scienc', 'darkness', 'kurtrussel', 'richarddreyfuss', 'newyear', 'sev', 'drown', 'ball', 'singl', 'cruis', 'wave', 'dramat', 'lives', 'wolfgangpetersen', 'mad', 'sad', 'trick', 'assault', 'boardingschool', 'teacher', 'cowardli', 'pregnanc', 'amp', 'paulapatton', 'benfost', 'realm', 'portal', 'worlds', 'oppos', 'fiction', 'unknown', 'simonpegg', 'goodvsevil', 'cousin', 'swallow', 'paint', 'fantast', 'katebeckinsal', 'histori', 'patriot', 'worldwarii', 'airplan', 'lifelong', 'danni', 'walker', 'ace', 'entangl', 'triangl', 'johnson', 'rivalri', 'turned', 'devast', 'pearl', 'harbor', 'teenager', 'extraterrestri', 'heroic', 'retriev', 'colinfarrel', 'valkilm', 'greec', 'campaign', 'homosexu', 'gayrelationship', 'ancientworld', 'persian', 'empire', 'ventur', 'gone', 'oliverston', 'cuttingthecord', 'childhero', 'dyinganddeath', 'sorcerer', 'blackmag', 'sorceri', 'occult', 'fifth', 'studi', 'stun', 'choice', 'matter', 'student', 'dub', 'army', 'tournament', 'teenag', 'fourth', 'ron', 'jasonbateman', 'alcohol', 'forbiddenlov', 'employ', 'expert', 'repair', 'imag', 'damag', 'miss', 'successful', 'stick', 'sens', 'purpos', 'slip', 'alon', 'viru', 'unabl', 'spread', 'perhap', 'daili', 'desper', 'londonengland', 'chocol', 'parentskidsrelationship', 'candi', 'tour', 'factori', 'river', 'cook', 'mous', 'confid', 'roof', 'window', 'kitchen', 'court', 'chef', 'rat', 'despit', 'problem', 'sewer', 'ideal', 'situat', 'beneath', 'restaur', 'famou', 'august', 'appar', 'visitor', 'fine', 'restaurant', 'passion', 'motion', 'hilari', 'excit', 'upsid', 'liamneeson', 'himalaya', 'martialart', 'ninja', 'escapad', 'driven', 'tragedy', 'bruce', 'dedic', 'underworld', 'benstil', 'jadapinkettsmith', 'davidschwimm', 'jealousi', 'danc', 'zoo', 'chimp', 'penguin', 'volcano', 'zebra', 'shark', 'yorker', 'hatch', 'crazi', 'plane', 'museum', 'hapless', 'larri', 'living', 'breath', 'exhibit', 'transfer', 'institution', 'close', 'lincoln', 'shawnlevi', 'boxer', 'logan', 'girlfriend', 'undergo', 'laurencefishburn', 'carrie', 'annemoss', 'philosophi', 'kungfu', 'subway', 'computerviru', 'supercomput', 'virtualr', 'cyberpunk', 'zion', 'invas', 'machin', 'neo', 'kristenbel', 'anna', 'fallen', 'accompani', 'deliveri', 'month', 'depict', 'matrix', 'humans', 'brought', 'resistance', 'abil', 'code', 'certain', 'pre', 'nasti', 'piec', 'news', 'dig', 'worri', 'natalieportman', 'veng', 'reunit', 'foster', 'tomhardi', 'australia', 'ontherun', 'landscap', 'broken', 'everyon', 'run', 'abl', 'max', 'loss', 'achiev', 'georgemil', 'rome', 'vatican', 'christian', 'prequel', 'catholic', 'harvard', 'evid', 'underground', 'ronhoward', 'newmexico', 'mighti', 'arrog', 'darkest', 'johntravolta', 'kidsandfamili', 'biggest', 'hollywood', 'separ', 'belov', 'owner', 'powers', 'samrockwel', 'pig', 'mole', 'household', 'shut', 'sentenc', 'pet', 'shop', 'ralphfienn', 'mytholog', 'zeu', 'fisherman', 'sole', 'rage', 'lack', 'lose', 'michellepfeiff', 'helenabonhamcart', 'vampir', 'fishoutofwat', 'chain', '18thcenturi', 'estat', 'vienna', 'ethan', 'highli', 'beniciodeltoro', 'anthonyhopkin', 'ruralset', 'lawrenc', 'visit', 'victorian', 'estrang', 'moonlight', 'savag', 'flesh', 'renéezellweg', 'flower', 'florist', 'barri', 'disillus', 'lone', 'career', 'honey', 'trip', 'outsid', 'vanessa', 'actual', 'eat', 'sue', 'dustinhoffman', 'po', 'valley', 'alongsid', 'fellow', 'kung', 'fu', 'furiou', 'crane', 'succeed', 'warship', 'arrest', 'air', 'asid', 'nightshyamalan', 'philipseymourhoffman', 'berlin', 'whitehous', 'honeymoon', 'shanghai', 'letter', 'mail', 'celebr', 'retir', 'duti', 'agents', 'sadist', 'usapresid', 'secretservic', 'policeman', 'deni', 'littl', 'house', 'heavili', 'president', 'country', 'sethgreen', 'joancusack', 'sbook', 'suddenli', 'abduct', 'mom', 'mischiev', 'milo', 'whi', 'frog', 'sid', 'common', 'spike', 'orphanage', '12', 'hook', 'rebelli', 'forev', 'pan', 'adopt', 'childprodigi', 'growingup', 'dog', 'troubl', 'genius', 'spring', 'stolen', 'moment', 'changed', 'ericbana', 'adulteri', 'fraud', 'swordfight', 'battlefield', 'clash', 'convinc', 'helen', 'husband', 'troy', 'ask', '50', 'greek', 'appl', 'central', 'attract', 'attent', 'gate', 'parti', 'julian', 'europ', 'piercebrosnan', 'rosamundpik', 'korean', 'replac', 'differ', 'assist', 'exploit', 'satellit', 'kristenwiig', 'femalefriendship', 'paranorm', 'enthusiast', 'erin', 'nuclear', 'worker', 'brucewilli', 'billybobthornton', 'asteroid', 'spacemarin', 'collid', 'dan', 'surfac', 'bomb', 'renown', 'agre', 'provid', 'hotshot', 'isn', 'illegalimmigr', 'newident', 'flyingsauc', 'kay', 'toughest', 'galaxi', 'raywinston', 'denmark', 'sin', 'royalti', 'adultanim', 'descend', 'huge', 'closer', 'jeremyrenn', 'instal', 'series', 'access', 'russian', 'launch', 'states', 'implic', 'alecbaldwin', 'judelaw', 'pitch', 'lay', 'guardian', 'belief', 'imagin', 'téaleoni', 'robber', 'suburbia', 'humili', 'unemploy', 'dick', 'handl', 'pretti', 'rob', 'second', 'remind', 'hurt', 'innoc', 'coupl', 'hear', 'boss', 'company', 'warcrim', 'swordplay', 'warveteran', 'mercenari', 'insurg', 'lossofhusband', 'slaughter', 'soldi', 'nathan', 'japanes', 'respect', 'edwardzwick', 'joeledgerton', 'johnturturro', 'mose', 'bibl', 'slave', 'deadli', 'leonardnimoy', 'teleport', 'spacemiss', 'thrill', 'iowa', 'farm', 'bas', 'reject', 'instinct', 'willemdafo', 'thanksgiv', 'nerdi', 'amaz', 'wifehusbandrelationship', 'mothersonrelationship', 'chapter', 'favorit', 'sport', 'pair', 'chart', 'territori', 'hundr', 'wild', 'peace', 'myth', 'mythic', 'jessicabiel', 'artifici', 'initi', 'billycrudup', 'carlagugino', 'massmurd', 'altern', '1985', 'glori', 'costum', 'veteran', 'brutal', 'melgibson', 'dannyglov', 'joepesci', 'revolv', 'maverick', 'martin', 'roger', 'squar', 'asian', 'mobster', 'sing', 'leo', 'smart', 'rooki', 'aim', 'richarddonn', 'jenniferconnelli', 'california', 'gun', 'mutat', 'psycholog', 'mirror', 'phone', 'cell', 'repress', 'research', 'tragic', 'laboratori', 'angle', 'missil', 'surveil', 'frame', 'termin', 'presidenti', 'contend', 'stevezahn', 'depth', 'busi', 'usual', 'underwat', 'buddy', 'donaldsutherland', 'ross', 'eye', 'mentor', 'nazi', 'nazigermani', 'perioddrama', 'ii', 'brooklyn', 'intend', 'devic', 'oil', 'heiress', 'greed', 'notori', 'culmin', 'submarin', 'suppli', 'paulbettani', 'royal', 'pursuit', 'devot', 'surgeon', 'fangvamp', 'birth', 'gather', 'fals', 'elijahwood', 'robinwilliam', 'pink', 'wors', 'shaken', 'forces', 'edwardnorton', 'timroth', 'fugit', 'virginia', 'angri', 'rebeccahal', 'cannib', 'bone', 'nice', 'lucki', 'sophi', 'carri', 'middl', 'rape', 'frontier', 'nativeamerican', 'violenc', 'basedontrueev', 'hugh', 'glass', 'paulgiamatti', 'underdog', 'fast', '500', 'nevada', 'lasvega', 'wind', 'dirt', 'welcom', 'wait', 'kowalski', 'privat', 'mattdamon', 'juliastil', 'prosecut', 'falseident', 'revel', 'shootout', 'footchas', 'flashback', 'report', 'simon', 'unveil', 'oper', 'project', 'newspap', 'inform', 'stir', 'dodg', 'paulgreengrass', 'turtl', 'lazi', 'chosen', 'slacker', 'won', 'paulrudd', 'michaeldougla', 'increas', 'inner', 'ant', 'competit', 'televis', 'upris', 'rebellion', 'femaleprotagonist', 'winner', 'safe', 'annual', 'mean', 'victor', 'stevemartin', 'promptli', 'capture', 'lot', 'dakotafan', 'posttraumaticstressdisord', 'newjersey', 'ray', 'divorc', 'perfect', 'ex', 'wif', 'rare', 'weekend', 'touch', 'martinlawr', 'miami', 'cuba', 'mexicanstandoff', 'gangster', 'carchas', 'druglord', 'illegaldrug', 'buddycop', 'actionhero', 'buddi', 'narcot', 'bullet', 'laugh', 'explod', 'drug', 'firework', 'playboy', 'secretli', 'sexi', 'antoniobandera', 'salmahayek', 'zachgalifianaki', 'tough', 'cat', 'coldwar', 'sovietunion', 'officer', 'loyalti', 'accus', 'elud', 'question', 'phillipnoyc', 'reporter', 'loyal', 'thrust', 'mystery', 'steal', 'bumbl', 'thompson', 'ahead', 'fortune', 'curse', 'harry', 'convict', 'missionari', 'ranch', 'northern', 'aristocrat', 'inherit', 'stock', 'cattl', 'thousand', 'extend', 'readi', 'chance', 'comet', 'prehistor', 'shower', 'willferrel', 'date', 'fish', 'mayor', 'rain', 'metro', 'christmasparti', 'halloween', 'potter', 'uncle', 'birthday', 'newfound', 'blame', 'chriscolumbu', 'kevinbacon', 'policeoper', 'undead', 'recent', 'geoffreyrush', 'marriagepropos', 'jamaica', 'skeleton', 'governor', 'caribbean', '17th', 'butt', 'rival', 'port', 'kidnapped', 'monk', 'secretsocieti', 'fame', 'jesseeisenberg', 'lesliemann', 'bird', 'audit', 'jewel', 'amazon', 'fit', 'law', 'patrickstewart', 'anti', 'mut', 'col', 'william', 'jean', 'scheme', 'brazil', 'fbi', 'freedom', 'escapefromprison', 'carcrash', 'policechas', 'opposit', 'mia', 'broke', 'mani', 'border', 'corner', 'larg', 'equal', 'detective', 'guyritchi', 'seiz', 'hell', 'demon', 'accept', 'sharonston', 'falselyaccus', 'doublelif', 'telepathi', 'construct', 'chip', 'brain', 'virtual', 'invent', 'plant', 'iraq', 'ad', 'arab', 'johnmctiernan', 'rooftop', 'aaron', 'trigger', 'previou', 'jason', 'donnel', 'freez', 'homicid', 'poison', 'dynam', 'joelschumach', 'newlov', 'christmas', 'creatur', 'lou', 'tornado', 'hurrican', 'evacu', 'climat', 'shepherd', 'trap', 'thandienewton', 'spain', 'helicopt', 'skyscrap', 'lov', 'biolog', 'crisi', 'johnwoo', 'dianelan', 'weather', 'condit', 'combin', 'boat', 'lif', 'minut', 'jessicaalba', 'resurrect', 'doublecross', 'screen', 'surfer', 'pose', 'timstori', 'compani', 'pacif', 'evamend', 'wesbentley', 'mephisto', 'religionandsupernatur', 'devil', 'stunt', 'flame', 'johnni', 'sell', 'soul', 'simpson', 'johnny', 'drewbarrymor', 'lucyliu', 'robberi', 'charg', 'member', 'wit', 'killed', 'ladi', 'guypearc', 'android', 'creation', 'michaelj', 'fox', 'stuart', 'ador', 'happili', 'east', 'store', 'george', 'jodiefost', 'wealthi', 'secretari', 'hard', 'enforc', 'immigr', 'luxuri', 'lifestyl', 'matt', 'damon', 'bounti', 'hunters', 'wage', 'champion', 'michaelkeaton', 'detroit', 'drone', 'forbidden', 'controversi', 'critic', 'count', 'machine', 'emilehirsch', 'christinaricci', 'lossofbroth', 'brilliant', 'driver', 'leagu', 'cost', 'activities', 'inspir', 'lovetriangl', 'basebal', 'athlet', 'bit', 'lisa', 'brook', 'airport', 'garag', 'glamor', 'sometim', 'amid', 'jamesmangold', 'morganfreeman', 'stranger', 'haydenchristensen', 'clone', 'wars', 'nobl', 'jedi', 'galaxy', 'ash', 'anakin', 'seduc', 'twin', 'senat', 'lasergun', 'leadership', 'renegad', 'break', 'movement', 'scream', 'sullivan', 'earn', 'scare', 'business', 'famkejanssen', 'worldwari', 'strong', 'stoneag', 'cavemen', 'lifetim', 'destroyed', 'olympicgam', 'roman', 'olymp', 'portray', 'process', 'ho', 'becaus', 'languag', 'sara', 'van', 'newyorkc', 'settl', 'shredder', 'grip', 'grim', 'fearless', 'cameraman', 'unravel', 'diabol', 'sandrabullock', 'edharri', 'ryan', 'medic', 'shuttl', 'command', 'routin', 'strikes', 'spiral', 'link', 'rescue', 'smalltown', 'motel', 'cabin', 'sleepi', 'worst', 'nightmare', 'rogerdonaldson', 'henchmen', 'similar', 'katemara', 'telekinesi', 'securityguard', 'secretintelligenceservic', 'tvstation', 'derang', 'media', 'incid', 'southernusa', 'lossofson', 'lossoffamili', 'gore', 'things', 'prefer', 'simpl', 'gabriel', 'catherinezeta', 'jon', 'thiev', 'amsterdam', 'hot', 'stevensoderbergh', 'vincevaughn', 'hitman', 'marriagecrisi', 'bliss', 'stuck', 'unbeknownst', 'paid', 'mix', 'wick', 'comedy', 'dystopicfutur', 'youngadult', 'ladykil', 'biographi', 'congress', 'howard', 'becam', 'compuls', 'journalist', 'tini', 'vandal', 'nightclub', 'knife', 'seth', 'largest', 'fortun', 'angeles', 'spoil', 'thu', 'tom', 'dies', 'someth', 'pow', 'criminal', 'christoph', 'lenaheadey', 'basedongraphicnovel', 'handtohandcombat', 'minion', 'frank', 'miller', 'graphic', 'visual', 'style', '300', 'saga', 'fresh', 'smurf', 'blue', 'village', 'fact', 'apple', 'cow', 'greedi', 'possess', 'heaven', 'kick', 'sky', 'match', 'guys', 'custodi', 'near', 'charlie', 'spell', 'patrick', 'grace', 'diamond', 'intoler', 'card', 'justinlong', 'timothyolyph', 'hacker', 'fistfight', 'cellphon', 'mcclane', 'bid', 'internet', 'intent', 'creator', 'doom', 'bet', 'circl', '80', 'days', 'frankcoraci', 'jonvoight', 'pro', 'victory', 'scene', 'clay', 'bold', 'african', 'ali', 'boredom', 'stepfath', 'salli', 'door', 'introduc', 'fun', 'chicago', 'suicide', 'jeremyiron', 'crusad', 'religi', 'bloodi', 'holi', 'orphanag', 'misadventur', 'voodoo', 'kiss', 'waitress', 'fulfil', 'isol', 'presum', 'fierc', 'transplant', 'resid', 'contain', 'environment', 'locat', 'warrenbeatti', 'dianekeaton', 'architect', 'anniversari', 'porter', 'longtim', 'griffin', 'direct', 'happy', 'countless', 'cops', 'joaquinphoenix', 'slaveri', 'philosoph', 'throw', 'empir', 'deviou', 'amus', 'pay', 'laid', 'noir', '21st', 'predict', 'attacks', 'itali', 'poker', 'banker', 'tortur', 'le', 'schedul', 'particip', 'stak', 'establish', 'financi', 'market', 'attend', 'alreadi', 'gorilla', 'evad', 'shotgun', 'sarah', 'cinema', 'era', 'bank', 'charm', 'edgar', 'fledgl', 'elus', 'number', 'melvin', 'denzelwashington', 'blackpeopl', 'drugtraff', 'drugsmuggl', 'ambit', 'drugdeal', 'dishonesti', 'luca', 'heroin', 'harlem', 'buy', 'south', 'asia', 'story', 'jamieleecurti', 'florida', 'horsebackrid', 'hijack', 'ransom', 'walter', 'tonyscott', 'robertdeniro', 'vomit', 'pam', 'greg', 'wound', 'cash', 'dad', 'suspicion', 'male', 'roar', 'skeptic', 'paulweitz', 'narrat', 'ceo', 'buddycomedi', 'nypd', 'desk', 'sit', 'allen', 'gambl', 'terri', 'background', 'photo', 'focu', 'case', 'jamescaan', 'marsh', 'marshal', 'enrol', 'manufactur', 'guard', 'bountyhunt', 'plantat', 'racism', 'dentist', 'german', 'hunter', 'mississippi', 'quentintarantino', 'demimoor', 'judg', 'ugli', 'religion', 'festiv', 'witchhunt', 'cruel', 'gypsi', 'davidspad', 'palac', 'summon', 'room', 'summer', 'sylvesterstallon', 'jasonstatham', 'dolphlundgren', 'numberintitl', 'airplanecrash', 'ensemblecast', 'church', 'easi', 'simonwest', 'dianekrug', 'rumor', 'revolutionari', 'declar', 'egg', 'catherinekeen', 'ira', 'carol', 'crown', 'fort', 'amandaseyfri', 'hotel', 'undercoverag', 'tourist', 'bud', 'anthoni', 'written', 'gabrielbyrn', 'sex', 'pastor', 'nuditi', 'christ', 'atheist', 'priest', 'satan', '1999', 'body', 'bride', 'christin', 'journal', 'smuggl', 'oppress', 'smuggler', 'valu', 'rip', 'jonahhil', 'sexual', 'humor', 'wallstreet', 'stockbrok', 'refus', 'cooper', 'mob', 'psychologist', 'millionair', 'disfigur', 'fac', 'courtroom', 'accid', 'edward', 'employe', 'ward', 'deniserichard', 'satir', 'progress', 'non', 'commiss', 'jimbroadb', '19th', 'distant', 'cloud', 'consequ', 'impact', 'award', 'david', 'owl', 'barn', 'st', 'soldiers', 'ga', 'ruler', 'benjaminbratt', 'basketbal', 'conspiracy', 'mild', 'mann', 'wash', 'eager', 'say', 'tail', 'johnhurt', 'ago', 'torment', 'receiv', 'labor', 'battle', 'warm', 'presenc', 'bunch', 'littleboy', 'loot', 'teach', 'alienlife', 'redneck', 'barney', 'trader', 'someon', 'members', 'faster', 'fbiagent', 'extrem', 'point', 'babi', 'aspir', 'cillianmurphi', 'whale', 'size', 'vengeance', 'harrow', 'despair', 'mate', 'rosariodawson', 'bar', 'club', 'gregkinnear', 'occup', '2003', 'chief', 'roy', 'rocket', 'site', 'chemic', 'elabor', 'brown', 'dialogu', 'independentfilm', 'unfortunately', 'abov', 'danielday', 'irish', 'gangwar', 'butcher', 'psychot', 'kingpin', 'earlier', 'area', 'refug', 'safety', 'zooeydeschanel', 'idol', 'mockumentari', 'surf', 'pictur', 'voic', 'jeff', 'matthewbroderick', 'bettemidl', 'housewif', 'frankoz', 'prisonersofwar', 'shot', 'heavi', 'intens', 'ground', 'politician', 'elect', 'repres', 'carolina', 'jayroach', 'taxi', 'given', 'sarahjessicapark', 'miranda', 'samantha', 'vacat', 'destin', 'retreat', 'rememb', 'fail', 'el', 'worship', 'nativ', 'worth', 'johnleguizamo', 'diego', 'unexpectedli', 'ella', 'stepmoth', 'daughters', 'dash', 'woods', 'susansarandon', 'tree', 'serialkil', 'corps', 'griev', 'murdered', '14', 'watch', 'grief', 'observ', 'thirst', 'desir', 'heal', 'aquarium', 'friendli', 'forget', 'vegetarian', 'dude', 'hypnot', 'hungri', 'viggomortensen', 'juliannemoor', 'local', 'countri', 'manner', 'howev', 'survive', 'couldn', 'society', 'antiqu', 'mindcontrol', 'goal', 'radic', 'samneil', 'williamh', 'maci', 'fund', 'alan', 'amanda', 'infam', 'loos', 'host', 'alzheimer', 'diseas', 'slowli', 'notic', 'subject', 'especi', 'mary', 'nicknolt', 'singlemoth', 'fairi', 'russia', 'moscow', 'method', 'mexican', 'davi', 'santa', 'texas', 'nelson', 'bob', 'insur', 'adam', 'difficult', 'rennyharlin', 'loganlerman', 'typic', 'collector', 'cowboy', 'camp', 'al', 'woodi', 'truli', 'runaway', 'toxic', 'pennsylvania', 'zhangziyi', 'hong', 'ladies', 'complic', 'hauntedhous', 'haunt', 'clair', 'spencer', 'billhad', 'annafari', 'food', 'flint', 'enabl', 'feed', 'bridg', 'insan', 'motor', 'mouth', 'tooth', 'photograph', 'magazin', 'daydream', 'skateboard', 'missing', 'aspect', 'tv', 'dylan', 'traffic', 'martial', 'jacknicholson', 'boston', 'mafia', 'undercovercop', 'favor', 'luck', 'imperi', 'li', 'moviestar', 'vietnam', 'memoir', 'tropic', 'budget', 'studio', 'execut', 'actor', 'production', 'gangs', 'punk', 'hack', 'disgrac', 'patriarch', 'niec', '40', 'civilian', 'demand', 'rachelmcadam', 'coffin', 'jasonle', 'chipmunk', 'propos', 'dump', 'colonel', 'germani', 'unfold', 'player', 'adamsandl', 'israel', 'mossad', 'isra', 'll', 'fake', 'dennisdugan', 'michellemonaghan', 'haleyjoelos', 'prostitut', 'lossofmoth', 'extraterrestrialtechnolog', 'pinocchio', 'doppelgang', 'gradual', 'circumst', 'workahol', 'mansion', 'butler', 'jameswood', 'fanat', 'spiritu', 'decis', 'reality', 'elisabethshu', 'sebastian', 'formula', 'eventu', 'results', 'seanpenn', 'interpret', 'investigate', 'box', 'woodyharrelson', 'magician', 'outwit', 'bend', 'emma', 'robertredford', 'bishop', 'garysinis', 'timrobbin', 'briandepalma', 'minnesota', 'linda', 'word', 'female', 'richard', 'product', 'andrew', 'youngest', 'purchas', 'creativ', 'shatter', 'morn', 'la', 'service', 'anonym', 'franki', 'deadliest', 'weapons', 'repay', 'conan', 'hord', 'massacr', 'pain', 'wilderness', 'netherland', 'sdailylif', 'comeback', '1920', 'social', 'poor', 'doll', 'chriscoop', 'horserac', 'racehors', 'victori', 'lift', 'helenhunt', 'billpaxton', 'caryelw', 'truck', 'sign', 'paper', 'melissa', 'nature', 'suicideattempt', 'loneli', 'chuck', 'kelly', 'marriage', 'ditch', 'brittanymurphi', 'crush', 'song', 'tap', 'sniper', 'document', 'seasid', 'glennclos', 'hostage', 'tak', 'negoti', 'conspir', 'stripclub', '24', 'hour', 'charismat', 'roll', 'danny', 'specialist', 'vega', 'reconcil', 'tess', 'millajovovich', 'musket', 'doubl', 'paulw', 'anderson', 'dracula', 'backpack', 'frankenstein', 'resort', 'ag', 'jamesmarsden', 'realiti', 'environ', 'chaotic', 'view', 'verafarmiga', 'puppi', 'outrag', 'caseyaffleck', 'staff', 'amateur', 'petti', 'crook', 'countryhous', 'multiplestorylin', 'kate', 'britain', 'swap', 'breakup', 'genehackman', 'dean', 'victim', 'theft', 'merylstreep', 'divorce', 'jake', 'married', 'compos', 'willi', 'vow', 'ashtonkutch', 'bunni', 'season', 'reli', 'elliot', 'ralli', 'divid', 'seannwilliamscott', 'brazilian', 'movieinmovi', 'spoof', 'sistersisterrelationship', 'brothel', 'romant', 'maid', 'carjourney', 'drift', 'jail', 'sean', 'tokyo', 'low', 'rent', 'section', 'billnighi', 'arthur', 'misfit', 'dawn', 'claireforlani', 'lifeanddeath', 'loveatfirstsight', 'reaper', 'parrish', 'vacation', 'agenda', 'eliaskotea', 'colombia', 'credit', 'broadway', 'surgeri', 'semi', 'strip', 'collaps', 'juliarobert', 'insecur', 'seven', 'character', 'canadian', '23', 'rockstar', 'hilaryswank', 'rapidli', 'liter', 'resolv', 'loose', 'peterseg', 'freddieprinzejr', 'sarahmichellegellar', 'matthewlillard', 'invit', 'extremeviol', 'psychic', 'justic', 'wasteland', 'ma', 'possibl', 'urban', 'deliv', 'rank', 'popular', 'christopherwalken', 'regret', 'heartattack', 'remot', 'forward', 'aris', 'antholog', '1950s', 'romero', 'stephen', 'georgea', 'christinaappleg', 'canin', 'adolesc', 'lossofchild', 'instantli', 'bloodthirsti', 'survival', 'selmablair', 'auction', 'plannedmurd', 'embassi', 'serial', 'bay', 'built', 'endless', 'sci', 'jenniferaniston', 'lovesick', 'prayer', 'rate', 'ridicul', 'blade', 'scout', 'hallucin', 'blind', 'tactic', 'sharp', 'drunken', 'bradleycoop', 'hangov', 'thailand', 'stu', 'wedding', 'bachelor', 'bangkok', 'toddphillip', 'dannydevito', 'christmastre', 'disord', 'vorort', 'mismatch', 'suburban', 'pop', 'older', 'wacki', 'dinner', 'robertduval', 'tsunami', 'mile', 'rock', 'appoint', 'chrisrock', 'americanfootbal', 'supervisor', 'coach', 'inmat', 'footbal', 'kevinjam', 'grew', 'leg', 'promot', 'analyst', 'industri', 'awkward', '1950', 'daniel', 'patient', 'dysfunctionalfamili', 'bust', 'pride', 'better', 'joanallen', 'rageandh', 'imaginari', 'nephew', 'entertain', 'events', 'adamshankman', 'jenniferjasonleigh', 'beach', 'beautifulwoman', 'pretend', 'assistant', 'trouble', 'bag', 'creepi', 'twinbroth', 'jerri', 'rachel', 'confeder', 'energi', 'sweetheart', 'object', 'trauma', 'insomnia', 'loner', 'luke', 'hill', 'unfortun', 'guest', 'michael', 'jeanreno', 'murderhunt', 'franc', 'stadium', 'disappears', 'kathyb', 'ufo', 'poweroutag', 'went', 'evolut', 'change', 'speak', 'taxidriv', 'paranoia', 'wheelchair', 'theori', 'european', 'theater', 'sergeant', 'divis', 'lines', 'germany', 'fashion', 'editor', 'ivanreitman', 'danaykroyd', 'justintimberlak', 'worse', 'cavalri', 'williamhurt', 'prospect', 'robinson', 'raymond', 'knock', 'broker', 'vice', 'didn', 'appear', 'rubi', 'sight', 'vlad', 'cool', 'blend', 'add', 'jill', 'saw', 'hara', 'femalenud', 'lax', 'account', 'necessari', 'stanley', 'mexico', 'americancivilwar', 'file', 'comfort', 'union', 'cubagoodingjr', 'chri', 'anni', 'patriciaarquett', 'harveykeitel', 'literatur', 'enchant', 'requir', 'terrygilliam', 'annetteben', 'julie', 'pregnant', 'hospital', 'disrupt', 'devis', 'obstacl', 'stalk', 'affair', 'brucegreenwood', 'atomicbomb', 'spark', 'jersey', 'kit', 'audienc', 'documentari', 'forestwhitak', 'manipul', 'profit', 'resources', 'tyler', 'duck', 'liveactionandanim', 'feud', 'tire', 'contract', 'dj', 'escort', 'joedant', 'script', 'week', 'shoot', 'mistress', 'muse', 'willpatton', 'shakespear', 'babe', 'contest', 'injur', 'viciou', 'yearn', 'awry', 'grandfath', 'grandmoth', 'block', 'flat', 'unless', 'sub', 'reaction', 'disastr', 'merchant', 'schizophrenia', 'mathematician', 'mathemat', 'delus', 'university', 'legaci', 'prize', 'paranoid', 'mental', 'statu', 'lossofpar', 'scar', 'crave', 'titl', 'missingperson', 'boyfriend', 'grandfather', 'psychopath', 'katieholm', 'alpacino', 'advertis', 'kids', 'dread', 'aggress', 'double', 'shadi', 'monica', 'johnsingleton', 'motherdaughterrelationship', 'sel', 'epidem', 'renerusso', 'piperperabo', 'roadmovi', 'financ', 'kevinhart', 'terrier', 'stray', 'seanconneri', 'bite', 'cun', 'fallinginlov', 'independ', 'juli', 'conduct', 'ran', 'malcolm', 'breed', 'behavior', 'cliveowen', 'hippi', 'miracl', 'activist', 'miracul', 'academi', 'missionofmurd', 'wesley', 'alcatraz', '100', 'prompt', 'situation', 'henri', 'quirki', 'total', 'delight', 'short', 'term', 'woo', 'tvshow', 'basedonstagemus', 'xenophobia', 'exorc', 'demonicpossess', 'traumat', 'wwii', 'somebodi', 'niece', 'vault', 'reward', 'mariabello', 'swing', 'stewardess', 'nobodi', 'quarantin', 'transit', 'simpli', 'emmarobert', 'austin', '16', 'quick', 'climb', 'highest', 'annie', 'assembl', 'dollar', 'afghanistan', 'unforeseen', 'secretlov', 'drugaddict', 'oscaraward', 'singer', 'extramaritalaffair', 'musicband', 'umathurman', 'industry', 'garygray', 'ciaránhind', 'hotelroom', 'seal', 'surround', 'antoinefuqua', 'katherineheigl', 'romance', 'height', 'upset', 'kgb', 'upperclass', 'relationshipproblem', 'admit', 'cultur', 'tension', 'different', 'bed', 'frighten', 'barrylevinson', 'richardger', 'timeless', 'chowyun', 'bail', 'deathpenalti', 'mickeyrourk', 'homeinvas', 'beat', 'guilt', 'rapmus', 'harrison', 'ford', 'instructor', 'solv', 'todd', 'elimin', 'soundtrack', 'seclud', 'horrifi', 'parallelworld', 'coma', 'bodi', 'robinwright', 'price', 'asylum', 'cope', 'policeoffic', 'volatil', 'katehudson', 'cemeteri', 'yacht', 'bahama', 'scubadiv', 'finn', 'comedian', 'cancer', 'jennifergarn', 'facil', 'ricki', 'shake', 'coast', 'eventually', 'cheat', 'lake', 'alaska', 'mistaken', 'jimmi', 'chill', 'suppress', 'rural', 'liber', 'paulnewman', 'cup', 'write', 'maggi', 'femal', 'garrymarshal', 'junki', 'exactli', 'bikini', 'surface', 'baby', 'snatch', 'criminals', 'guerrilla', 'jew', 'occupi', 'jewish', 'wasn', 'suppos', 'did', 'capt', 'steven', 'variou', 'wealth', 'gorgeou', 'sofia', 'horribl', 'swimmingpool', 'pool', 'predat', 'arctic', 'sensat', 'stardom', '25', 'ignit', 'vietnamveteran', 'vietnamwar', 'fought', 'angelabassett', 'ban', 'building', 'respond', 'bigger', 'jonathanfrak', 'starfleet', 'picard', 'expected', 'publish', 'albert', 'joey', 'sold', 'history', 'focus', 'nuclearmissil', 'economi', 'boys', 'islam', 'muslim', 'unrequitedlov', 'countrysid', 'davidthewli', 'tibet', 'winonaryd', 'dilemma', 'ronni', 'firm', 'hustler', 'hiddencamera', 'mistakenident', 'imperson', 'educ', 'operation', 'inject', 'kelli', 'catch', 'arnold', 'stephenrea', 'vampire', 'dreams', 'senior', 'silent', 'orchestr', 'nearbi', 'unwit', 'hart', 'chrisklein', 'roller', 'times', 'rebecca', 'jonathan', 'instant', 'superstar', 'seriou', 'christianslat', 'hoodlum', 'freeman', 'ravag', 'bobbyfarrelli', 'peterfarrelli', 'dorothi', 'pierr', 'ski', 'polli', 'promin', 'malenud', 'novelist', 'yard', 'seduct', 'jimcaviezel', 'proof', 'lust', 'overthrow', 'tyrann', 'insight', 'advic', 'happens', 'bella', 'seattl', 'midst', 'jacob', 'marlonbrando', 'gotten', 'jasonsegel', 'ballet', 'wesleysnip', 'jenniferlopez', 'newlyw', 'ted', 'oscarisaac', 'cult', 'historicalfigur', 'histor', 'concern', 'tool', 'aren', 'fred', 'approach', 'whatev', 'interview', '60', 'blizzard', 'anthonymacki', 'creature', 'distrust', 'davidduchovni', 'secretorgan', 'shadowi', 'element', 'colinfirth', 'ancientrom', 'troop', '1940', 'illeg', 'marisatomei', 'thomasjan', 'overcom', 'speech', 'familyconflict', 'office', 'slavery', '1971', 'heroism', '200', 'calvin', 'els', 'gig', 'parol', 'france', 'megryan', 'becominganadult', 'dale', 'constant', 'strain', 'twenti', 'spanish', 'foil', 'highway', 'hitchhik', 'wallet', 'list', 'loui', 'runner', 'clinteastwood', 'elderli', 'neil', 'utah', 'emilymortim', 'midlifecrisi', 'suppressedpast', 'row', 'katherin', 'ann', 'conserv', 'sexualobsess', 'erotic', 'marijuana', 'illegalprostitut', 'rosebyrn', 'candid', 'youngster', 'conman', 'jess', 'wing', 'uncomfort', 'fatal', 'kriskristofferson', 'colorado', 'mid', 'pistol', 'patrol', 'emmathompson', 'presidentialelect', 'scandal', 'bush', 'wander', 'corporation', 'outbreak', 'blow', 'thug', 'darkcomedi', 'davidmors', 'daxshepard', 'salesman', 'trainer', 'fans', 'andiemacdowel', 'lisakudrow', 'rough', 'childabus', 'oliv', 'experience', 'robertrodriguez', 'kristinscottthoma', 'dutch', 'snowstorm', 'hike', 'lonewolf', 'nose', 'submachinegun', 'clown', 'gunsling', 'reviv', 'cartel', 'police', 'dress', 'realis', 'wade', 'robrein', 'guru', 'bollywood', 'hockey', 'courteneycox', 'elvi', 'partners', 'wyom', 'shelter', 'said', 'plenti', 'mentallydis', 'gentl', 'roadtrip', 'biker', 'chicken', 'hyster', 'spotlight', 'georgia', 'campbell', 'joseph', 'lauralinney', 'broadcast', 'opera', 'odds', 'bankrobberi', 'dea', 'venic', 'caper', 'hughgrant', 'depend', 'legal', 'woodyallen', 'switch', 'general', 'session', 'examin', 'cole', 'smash', 'eugenelevi', 'brien', 'maze', 'zone', 'pleasur', 'gunman', 'helenmirren', 'quarterback', 'montana', 'sour', 'peasant', 'exact', 'request', 'bargain', 'sharkattack', 'popstar', 'concert', 'footag', 'terminalil', 'anthonyanderson', 'musician', 'parallel', 'everybodi', 'elliott', 'moor', 'betti', 'uptight', 'ken', 'puppet', 'constantli', 'karat', 'raid', 'rightandjustic', 'jan', 'cynic', 'clients', 'stopmot', 'jock', 'norman', 'ritual', 'deputi', 'sensit', 'network', 'raw', 'warren', 'jenniferlovehewitt', 'chauffeur', 'clark', 'stevenseag', 'navys', 'davido', 'russel', 'funeral', 'ripley', 'died', 'rifl', 'exil', 'evanrachelwood', 'mostli', 'gari', 'elizabethbank', 'mistakenli', 'triumph', 'pageant', 'stan', 'ryangosl', 'mickey', 'cohen', 'drugs', 'haroldrami', 'southafrica', 'apartheid', 'rugbi', 'poverti', 'racial', 'econom', 'upcom', 'jeffdaniel', 'darylhannah', 'donaldpetri', 'kiefersutherland', 'reminisc', 'fetish', 'tycoon', 'beverli', 'joelcoen', 'gu', 'check', 'disturb', 'gruesom', 'therapist', 'stress', 'dirtycop', 'autism', 'homeless', 'golf', 'comingofag', 'garfield', 'sidekick', 'icecub', 'record', 'crucifixion', 'vampires', 'sailor', 'pregnancyandbirth', 'pornographi', 'actress', '17', 'warlock', 'demons', 'companion', 'apartment', 'bedroom', 'clerk', 'camera', 'denni', 'rayliotta', 'turbul', 'heartbreak', '30', 'kellypreston', 'stephenherek', 'flirt', 'vegas', 'johnkrasinski', 'sportsteam', 'brothers', 'jobinterview', 'ethic', 'teens', 'harder', 'lloyd', 'fiance', 'italian', 'deceas', 'johnnyknoxvil', 'hometown', 'songwrit', 'settler', 'arrang', 'coming', 'experiment', 'juan', 'hitch', 'client', 'tabloid', 'relationships', 'thomashadenchurch', 'jasonbigg', 'michel', 'sick', '2009', 'alabama', 'stripper', 'phil', 'kat', 'stretch', 'chloëgracemoretz', 'mccall', 'ultra', 'nowher', 'mistak', 'issu', 'homelessperson', 'bu', 'invest', 'su', 'harass', 'maggie', 'yakuza', 'employer', 'heathergraham', 'concoct', 'movie', 'diva', 'picture', 'motherrol', 'associ', 'warondrug', 'drink', 'ernest', 'breakdown', 'mere', 'wang', 'kurt', 'clueless', 'roommat', 'michaelangarano', 'madonna', 'impostor', 'tomwilkinson', 'sir', 'railroad', 'note', 'read', 'thank', 'suburb', 'neighborhood', 'maniac', 'mayb', 'dancer', 'freak', 'martha', 'vineyard', 'walt', 'cher', 'nba', 'jacki', 'michigan', '1976', 'somewhat', 'seas', 'minist', 'reunion', 'fan', 'patrickwilson', 'phantom', 'acquaint', 'virgin', 'kermit', 'alik', 'hood', 'privatedetect', 'offici', 'depress', 'fascin', 'culture', 'haze', 'occur', 'pianist', 'andygarcía', 'confess', 'francisfordcoppola', 'drew', 'shoe', 'mattdillon', 'frustrat', 'lesbian', 'louisiana', 'idealist', 'penn', 'influenc', 'christopherlloyd', 'grandmother', 'maria', 'parisian', '20th', 'poet', 'ryanphillipp', 'jessebradford', 'slasher', 'length', 'movies', 'ohio', 'tabl', 'curtishanson', 'fword', 'argument', 'dirti', 'valentine', 'earli', 'midnight', 'awak', 'grade', 'antic', 'jaychandrasekhar', 'mitch', 'jonathanrhysmey', 'pimp', 'minor', 'cri', 'multipl', 'james', 'listen', 'reel', 'parodi', 'bennett', 'gay', 'lovelett', 'liar', 'deed', 'unexplain', 'describ', 'matthew', 'highschool', 'neiljordan', 'spite', 'courtcas', 'profil', 'spikele', 'nun', 'soulmat', 'emili', 'unfaith', 'single', 'impress', 'vet', 'competition', 'fed', 'commerci', 'celebration', 'strategi', 'billi', 'yellow', 'lindsaylohan', 'tast', 'hansel', 'suspici', 'fi', 'grasp', 'capit', 'tens', 'numer', 'americanabroad', 'virginiamadsen', 'rules', 'sleepwalk', 'illness', 'psychiatr', 'protest', 'varieti', 'pawn', 'americanfootballplay', 'knit', 'masturb', 'hasn', 'virginity', 'heather', 'insist', 'foundfootag', 'unpredict', 'foley', 'humananimalrelationship', 'bat', 'clever', 'lovabl', 'atom', 'jone', 'contractor', 'solitari', 'dannyboyl', 'model', 'merciless', 'crimes', 'grisli', 'root', 'kati', 'du', 'hyun', 'seo', 'nam', 'il', 'drunk', 'exercis', 'anjelicahuston', 'attempttoescap', 'johncarpent', 'sittingonatoilet', 'metal', 'murray', 'wesanderson', 'punish', 'cheerlead', 'jimmy', 'davidcronenberg', 'dive', 'cocain', 'davidgordongreen', 'misguid', 'sweet', 'reverend', 'sale', 'chazzpalminteri', 'onlin', 'unsuspect', 'stupid', 'derek', 'harold', 'tick', 'rockandrol', 'heavymet', 'problems', 'defin', 'addict', 'indiana', 'queenlatifah', 'injuri', 'murderer', 'bunker', 'chamber', 'junior', 'nicol', 'whoopigoldberg', 'marymccormack', 'hypnosi', 'jazz', 'frequent', 'karen', 'fend', 'violence', 'gangsterboss', 'puberti', 'policebrut', 'servant', 'stephenfrear', 'womanrel', 'publicist', 'couple', 'megan', '1990', 'kidnapp', 'malefriendship', 'ethanhawk', 'scottglenn', 'convent', 'ail', 'regim', 'comed', 'stephendorff', 'gave', 'scholarship', 'headlin', 'academ', 'reckless', 'voice', 'intertwin', 'killers', 'victims', 'ensues', 'changes', 'dolphin', 'weird', 'families', 'benefit', 'diagnos', 'bankrobb', 'pot', 'kimbasing', 'elli', 'riot', 'connecticut', 'packag', 'seriesofmurd', 'doug', 'laura', 'jennif', 'ashley', 'attic', 'pledg', 'blond', 'episod', 'derekluk', 'deaf', 'unhappi', 'princip', 'flash', 'charliesheen', 'incompet', 'hilaryduff', 'supermarket', 'iranian', 'samuel', 'stewart', 'sexualabus', 'photographi', 'jackass', 'madam', 'unorthodox', 'poetri', 'unsoci', 'bronx', 'gusvans', 'treatment', 'bobhoskin', 'piano', 'hop', 'exam', 'zacefron', 'classmat', 'strict', 'students', 'hopelessli', 'oppositesattract', 'straight', 'wildli', 'taylor', 'marti', 'ashleyjudd', 'unconvent', 'barbrastreisand', 'premonit', 'lgbt', 'solomon', 'edwardburn', 'breast', 'dennishopp', 'jaredleto', 'wai', 'kim', 'pete', 'hip', 'rapper', 'shannynsossamon', 'tonicollett', 'scam', 'diner', 'campu', 'ana', 'carmen', 'davidarquett', 'nevecampbel', 'stab', 'wescraven', 'schoolteach', 'julia', 'months', 'countrymus', 'fromragstorich', 'circuit', 'camcord', 'homophobia', 'orlean', 'nialong', 'nanni', 'attitud', 'dysfunct', 'highschoolsport', 'mutual', 'seriously', 'sexaddict', 'maya', 'motley', 'higher', 'valuabl', 'ax', 'nightstand', 'bridesmaid', 'malefemalerelationship', 'bestfriendsinlov', 'hannah', 'basedonplay', 'generation', 'ambul', 'mentalil', 'institut', 'medicin', 'morgu', 'extra', 'sidney', 'reconnect', 'particularli', 'frantic', 'playground', 'announc', 'deathoffath', 'youngboy', 'stories', 'africanamerican', 'eric', 'catherinedeneuv', 'sisters', 'zoe', 'round', 'vincent', 'jasonschwartzman', 'rachaelleighcook', 'chevychas', 'yuppi', 'shyness', 'teencomedi', 'girls', 'brief', 'reflect', 'voyeur', 'regular', 'malcolmd', 'claudevandamm', 'cliff', 'prank', 'naiv', 'nomad', 'screenwrit', 'guitar', 'totalitarian', 'caretak', 'working', 'beer', 'gym', 'chad', 'ethancoen', 'abigailbreslin', 'reclus', 'farewel', 'happiness', 'kevinsmith', 'crab', 'lukewilson', 'trucker', 'amy', 'botch', 'colin', 'legacy', 'memoryloss', 'elev', 'cathol', 'saint', 'remark', 'tested', 'williamshatn', 'entiti', 'cairo', 'comingout', 'decapit', 'krueger', 'community', 'jami', 'soror', 'fratern', 'thirti', 'michaelsheen', 'films', 'jesuschrist', 'jesu', 'groupoffriend', 'amysmart', 'dian', 'tylerperri', 'portrait', 'finale', 'condition', 'alfredmolina', 'sarapaxton', 'leslienielsen', 'bike', 'oregon', 'australian', 'lassehallström', 'baron', 'rancher', 'victoria', 'harriet', 'harsh', 'verylittledialogu', 'jigsaw', '1974', 'wine', 'festival', 'omar', 'viewer', 'amidst', 'missouri', 'countess', 'ellenburstyn', 'communist', 'joel', 'frozen', 'teenagesexu', 'sudden', 'anarchiccomedi', 'nightlif', 'korea', 'disabl', 'rogermoor', 'hopedavi', 'wager', 'grad', 'caraccid', 'slum', 'multi', 'workers', 'teenagegirl', 'teenmovi', 'rugrat', 'aidanquinn', 'annakendrick', 'painter', 'diplomat', 'morrischestnut', 'gaelgarcíabern', 'deeper', 'emilywatson', 'smoke', 'loan', 'doorstep', 'freshman', 'classroom', 'prom', 'counselor', 'tradit', 'jamie', 'miner', '18', 'canada', 'prejudic', 'meat', 'suitor', 'gambler', 'inevit', 'convers', '1960s', 'easili', 'famous', 'perry', '1970s', 'debut', 'meant', 'cultfilm', 'occasion', 'cigarettesmok', 'highland', 'pedophilia', 'incest', 'jesus', 'lili', 'ghetto', 'crocodil', 'drugus', 'moore', 'stalker', 'cruelti', 'playwright', 'warden', 'oxford', 'shakespeare', 'richardlinklat', 'jessica', 'practic', 'mall', 'firsttim', 'theatremilieu', 'romeo', 'stoner', 'lawman', 'mayhem', 'illustr', 'christopherlambert', 'sandi', 'iraqwar', 'traffick', 'robertenglund', 'freddi', 'angela', 'fling', 'gregorypeck', 'beth', 'newcom', 'madea', 'misogynist', 'appreci', 'arrangedmarriag', 'eddiegriffin', 'heard', 'olivia', 'spin', 'porn', 'emigr', 'unforgett', 'ireland', 'converg', 'zealand', 'mega', 'philadelphia', 'montreal', 'minniedriv', 'encourag', 'acclaim', 'bloodsplatt', 'survivors', 'lurk', 'becki', 'melbrook', 'molli', 'sleazi', 'loser', 'indianlead', 'gandhi', 'val', 'sound', 'existenti', 'getaway', 'mitchel', 'femalecorps', 'buck', 'basement', 'chloe', 'crossdress', 'intim', 'stella', 'janitor', 'gossip', 'chainsaw', 'jerusalem', 'bisexu', 'alfredhitchcock', 'privileg', 'preacher', 'michaelmoor', 'misanthrop', 'satisfi', 'waiter', 'vanessahudgen', 'warehous', 'outback', 'lola', 'kathi', 'difficulti', 'brent', 'oddbal', 'contemporari', 'elite', 'silentfilm', 'tvmovi', '1944', 'craig', 'jamesivori', 'unsimulatedsex', 'legends', 'leon', 'slapstick', 'gayinterest', 'toronto', 'highschoolstud', 'jin', 'holli', 'parties', 'folk', 'brandon', 'mumblecor', 'markduplass', 'chloësevigni', 'iran', 'lesbianrelationship', 'wrestler', 'eva', 'canuxploit', 'mormon', 'exclus', 'mumblegor', 'hud', 'alyssa', 'alexkendrick'])"
      ]
     },
     "execution_count": 35,
     "metadata": {},
     "output_type": "execute_result"
    }
   ],
   "source": [
    "cv.vocabulary_.keys()"
   ]
  },
  {
   "cell_type": "code",
   "execution_count": 36,
   "metadata": {},
   "outputs": [],
   "source": [
    "from sklearn.metrics.pairwise import cosine_similarity\n",
    "\n",
    "similarities = cosine_similarity(vectors)"
   ]
  },
  {
   "cell_type": "code",
   "execution_count": 37,
   "metadata": {},
   "outputs": [
    {
     "data": {
      "text/plain": [
       "array([0.08346223, 1.        , 0.06063391, ..., 0.02378257, 0.        ,\n",
       "       0.02615329])"
      ]
     },
     "execution_count": 37,
     "metadata": {},
     "output_type": "execute_result"
    }
   ],
   "source": [
    "similarities[1]"
   ]
  },
  {
   "cell_type": "code",
   "execution_count": 38,
   "metadata": {},
   "outputs": [
    {
     "data": {
      "text/plain": [
       "[(1214, 0.28676966733820225),\n",
       " (2405, 0.26901379342448517),\n",
       " (3728, 0.2605130246476754),\n",
       " (507, 0.255608593705383),\n",
       " (539, 0.25038669783359574)]"
      ]
     },
     "execution_count": 38,
     "metadata": {},
     "output_type": "execute_result"
    }
   ],
   "source": [
    "sorted(list(enumerate(similarities[0])),reverse=True, key= (lambda x:x[1]))[1:6]"
   ]
  },
  {
   "cell_type": "code",
   "execution_count": 39,
   "metadata": {},
   "outputs": [],
   "source": [
    "def recommend(movie):\n",
    "    movie_index = movies[movies['title'] == movie].index[0]\n",
    "    distances = similarities[movie_index]\n",
    "    movies_list = sorted(list(enumerate(distances)),reverse=True, key= (lambda x:x[1]))[1:6]\n",
    "    \n",
    "    for i in movies_list:\n",
    "        print(movies.iloc[i[0]].title) "
   ]
  },
  {
   "cell_type": "code",
   "execution_count": 40,
   "metadata": {},
   "outputs": [
    {
     "name": "stdout",
     "output_type": "stream",
     "text": [
      "The Dark Knight\n",
      "Batman\n",
      "Batman\n",
      "The Dark Knight Rises\n",
      "10th & Wolf\n"
     ]
    }
   ],
   "source": [
    "recommend('Batman Begins')"
   ]
  },
  {
   "cell_type": "code",
   "execution_count": 41,
   "metadata": {},
   "outputs": [],
   "source": [
    "import pickle\n",
    "\n",
    "pickle.dump(movies,open('movie.pkl','wb'))\n",
    "pickle.dump(similarities,open('similarities.pkl','wb'))\n"
   ]
  },
  {
   "cell_type": "code",
   "execution_count": 44,
   "metadata": {},
   "outputs": [
    {
     "data": {
      "text/plain": [
       "0"
      ]
     },
     "execution_count": 44,
     "metadata": {},
     "output_type": "execute_result"
    }
   ],
   "source": [
    "movies[movies['title'] == 'Avatar'].index[0]"
   ]
  },
  {
   "cell_type": "code",
   "execution_count": null,
   "metadata": {},
   "outputs": [],
   "source": []
  }
 ],
 "metadata": {
  "kernelspec": {
   "display_name": "Python 3",
   "language": "python",
   "name": "python3"
  },
  "language_info": {
   "codemirror_mode": {
    "name": "ipython",
    "version": 3
   },
   "file_extension": ".py",
   "mimetype": "text/x-python",
   "name": "python",
   "nbconvert_exporter": "python",
   "pygments_lexer": "ipython3",
   "version": "3.11.5"
  }
 },
 "nbformat": 4,
 "nbformat_minor": 2
}
